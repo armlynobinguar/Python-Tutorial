{
 "cells": [
  {
   "cell_type": "markdown",
   "id": "12258a9c",
   "metadata": {},
   "source": [
    "## Lesson 3: Functions\n"
   ]
  },
  {
   "cell_type": "code",
   "execution_count": 1,
   "id": "1d2edb6f",
   "metadata": {},
   "outputs": [],
   "source": [
    "def my_func():\n",
    "    print('hello, Data bootcamp learners!')"
   ]
  },
  {
   "cell_type": "code",
   "execution_count": 3,
   "id": "f95173e5",
   "metadata": {},
   "outputs": [
    {
     "name": "stdout",
     "output_type": "stream",
     "text": [
      "hello, Data bootcamp learners!\n"
     ]
    }
   ],
   "source": [
    "my_func()"
   ]
  },
  {
   "cell_type": "markdown",
   "id": "5edbde04",
   "metadata": {},
   "source": [
    "## functions with parameter\n",
    "\n"
   ]
  },
  {
   "cell_type": "code",
   "execution_count": 4,
   "id": "a6b61191",
   "metadata": {},
   "outputs": [],
   "source": [
    "def myfunc(param,param2='class'):\n",
    "    print(param,param2)"
   ]
  },
  {
   "cell_type": "code",
   "execution_count": 5,
   "id": "e33ec6fb",
   "metadata": {},
   "outputs": [
    {
     "name": "stdout",
     "output_type": "stream",
     "text": [
      "this is Python Day 2 Training class\n"
     ]
    }
   ],
   "source": [
    "myfunc('this is Python Day 2 Training')\n"
   ]
  },
  {
   "cell_type": "code",
   "execution_count": 2,
   "id": "69c1ebf8",
   "metadata": {},
   "outputs": [],
   "source": [
    "# functions with default parameter\n",
    "# docstrings is just a comment \n",
    "\n",
    "def myfunc1(param=5):\n",
    "    \"\"\"\n",
    "    data bootcamp \n",
    "    \"\"\"\n",
    "    print(param)\n",
    "    #return param\n"
   ]
  },
  {
   "cell_type": "code",
   "execution_count": 3,
   "id": "8e816a21",
   "metadata": {},
   "outputs": [
    {
     "name": "stdout",
     "output_type": "stream",
     "text": [
      "5\n"
     ]
    }
   ],
   "source": [
    "myfunc1() # here we are not passing any parameter to the function\n",
    "#since it is already declared as default in functi"
   ]
  },
  {
   "cell_type": "code",
   "execution_count": 8,
   "id": "6508df42",
   "metadata": {},
   "outputs": [],
   "source": [
    "def myfunc1(argument):\n",
    "    \"\"\"\n",
    "    docstring goes here!\n",
    "    \"\"\"\n",
    "    return (argument *5)"
   ]
  },
  {
   "cell_type": "code",
   "execution_count": 9,
   "id": "e62e6018",
   "metadata": {},
   "outputs": [
    {
     "data": {
      "text/plain": [
       "30"
      ]
     },
     "execution_count": 9,
     "metadata": {},
     "output_type": "execute_result"
    }
   ],
   "source": [
    "x=myfunc1(6)\n",
    "x\n",
    "#30"
   ]
  },
  {
   "cell_type": "markdown",
   "id": "a24d2dc1",
   "metadata": {},
   "source": [
    "## Methods\n",
    "\n",
    "String Upper and String Lower"
   ]
  },
  {
   "cell_type": "code",
   "execution_count": 13,
   "id": "13cf81c8",
   "metadata": {},
   "outputs": [],
   "source": [
    "st=\"hello python DAY 2 LeArNerS\"\n",
    "\n",
    "# columns \" name\""
   ]
  },
  {
   "cell_type": "code",
   "execution_count": 14,
   "id": "3b7427d6",
   "metadata": {},
   "outputs": [
    {
     "data": {
      "text/plain": [
       "'hello python day 2 learners'"
      ]
     },
     "execution_count": 14,
     "metadata": {},
     "output_type": "execute_result"
    }
   ],
   "source": [
    "st.lower()\n"
   ]
  },
  {
   "cell_type": "code",
   "execution_count": 15,
   "id": "23e40ae6",
   "metadata": {},
   "outputs": [
    {
     "data": {
      "text/plain": [
       "'HELLO PYTHON DAY 2 LEARNERS'"
      ]
     },
     "execution_count": 15,
     "metadata": {},
     "output_type": "execute_result"
    }
   ],
   "source": [
    "st.upper()"
   ]
  },
  {
   "cell_type": "markdown",
   "id": "de9c15c7",
   "metadata": {},
   "source": [
    "## Split method\n",
    "\n"
   ]
  },
  {
   "cell_type": "code",
   "execution_count": 16,
   "id": "047c028c",
   "metadata": {},
   "outputs": [],
   "source": [
    "tweet=\"Go Accenture Technology People ! #DataBootcamp\"\n"
   ]
  },
  {
   "cell_type": "code",
   "execution_count": 17,
   "id": "2790973d",
   "metadata": {},
   "outputs": [
    {
     "data": {
      "text/plain": [
       "['Go', 'Accenture', 'Technology', 'People', '!', '#DataBootcamp']"
      ]
     },
     "execution_count": 17,
     "metadata": {},
     "output_type": "execute_result"
    }
   ],
   "source": [
    "#splits with white space. This is the default one\n",
    "tweet.split()   # \\n or \\t"
   ]
  },
  {
   "cell_type": "code",
   "execution_count": 19,
   "id": "6ac8e4d3",
   "metadata": {},
   "outputs": [
    {
     "data": {
      "text/plain": [
       "'Go Accenture Technology People ! #DataBootcamp'"
      ]
     },
     "execution_count": 19,
     "metadata": {},
     "output_type": "execute_result"
    }
   ],
   "source": [
    "tweet"
   ]
  },
  {
   "cell_type": "code",
   "execution_count": 20,
   "id": "4fced16c",
   "metadata": {},
   "outputs": [
    {
     "data": {
      "text/plain": [
       "'go accenture technology people ! #databootcamp'"
      ]
     },
     "execution_count": 20,
     "metadata": {},
     "output_type": "execute_result"
    }
   ],
   "source": [
    "tweet.lower()"
   ]
  },
  {
   "cell_type": "code",
   "execution_count": 21,
   "id": "07ca61a7",
   "metadata": {},
   "outputs": [
    {
     "data": {
      "text/plain": [
       "'GO ACCENTURE TECHNOLOGY PEOPLE ! #DATABOOTCAMP'"
      ]
     },
     "execution_count": 21,
     "metadata": {},
     "output_type": "execute_result"
    }
   ],
   "source": [
    "tweet.upper()"
   ]
  },
  {
   "cell_type": "markdown",
   "id": "de015d44",
   "metadata": {},
   "source": [
    "# Understanding Numpy"
   ]
  },
  {
   "cell_type": "markdown",
   "id": "ae6403b9",
   "metadata": {},
   "source": [
    "* Numpy Data types\n",
    "* Numpy Arrays\n",
    "* Numpy Indexing and Selection\n",
    "* Numpy Operations\n",
    "* Numpy Broadcasting"
   ]
  },
  {
   "cell_type": "code",
   "execution_count": 4,
   "id": "9fbc5e50",
   "metadata": {},
   "outputs": [],
   "source": [
    "import numpy as np\n",
    "from numpy  import * # specific library "
   ]
  },
  {
   "cell_type": "code",
   "execution_count": 9,
   "id": "f72b4843",
   "metadata": {},
   "outputs": [],
   "source": [
    "import numpy as np "
   ]
  },
  {
   "cell_type": "code",
   "execution_count": 23,
   "id": "63269553",
   "metadata": {},
   "outputs": [
    {
     "name": "stdout",
     "output_type": "stream",
     "text": [
      "int32\n"
     ]
    }
   ],
   "source": [
    "import numpy as np  \n",
    "d = np.dtype(np.int32)  \n",
    "print(d) "
   ]
  },
  {
   "cell_type": "code",
   "execution_count": 24,
   "id": "27bb7825",
   "metadata": {},
   "outputs": [
    {
     "name": "stdout",
     "output_type": "stream",
     "text": [
      "array: [2 3 4]\n"
     ]
    },
    {
     "data": {
      "text/plain": [
       "numpy.ndarray"
      ]
     },
     "execution_count": 24,
     "metadata": {},
     "output_type": "execute_result"
    }
   ],
   "source": [
    "list1=[2,3,4]\n",
    "arr=np.array(list1)\n",
    "print(\"array:\",arr)\n",
    "type(arr)     # array "
   ]
  },
  {
   "cell_type": "markdown",
   "id": "fed8f15a",
   "metadata": {},
   "source": [
    "## Numpy Arrays\n"
   ]
  },
  {
   "cell_type": "code",
   "execution_count": 25,
   "id": "181822de",
   "metadata": {},
   "outputs": [
    {
     "name": "stdout",
     "output_type": "stream",
     "text": [
      "array: [6 7 8]\n",
      "type of arr: int32\n"
     ]
    }
   ],
   "source": [
    "#integer Array\n",
    "arr=array([6,7,8])   # array is for numpy [1,2,3]\n",
    "print(\"array:\",arr)\n",
    "#type of an array\n",
    "print(\"type of arr:\",arr.dtype) "
   ]
  },
  {
   "cell_type": "code",
   "execution_count": 26,
   "id": "1ec762dc",
   "metadata": {},
   "outputs": [
    {
     "name": "stdout",
     "output_type": "stream",
     "text": [
      "array: [6.  7.  8.4]\n",
      "type of arr: float64\n"
     ]
    }
   ],
   "source": [
    "#float Array\n",
    "arr=array([6,7,8.4])\n",
    "print(\"array:\",arr)\n",
    "#type of an array\n",
    "print(\"type of arr:\",arr.dtype)"
   ]
  },
  {
   "cell_type": "code",
   "execution_count": 27,
   "id": "a57ee122",
   "metadata": {},
   "outputs": [
    {
     "name": "stdout",
     "output_type": "stream",
     "text": [
      "array: [7. 8. 9.]\n",
      "type of arr1: float64\n"
     ]
    }
   ],
   "source": [
    "#we can also create a float array with integers by declaring a key word float\n",
    "arr1=array([7,8,9],float)\n",
    "print(\"array:\",arr1)\n",
    "print(\"type of arr1:\",arr1.dtype)"
   ]
  },
  {
   "cell_type": "code",
   "execution_count": 28,
   "id": "b5d76820",
   "metadata": {},
   "outputs": [
    {
     "name": "stdout",
     "output_type": "stream",
     "text": [
      "[1 2 3]\n"
     ]
    },
    {
     "data": {
      "text/plain": [
       "numpy.ndarray"
      ]
     },
     "execution_count": 28,
     "metadata": {},
     "output_type": "execute_result"
    }
   ],
   "source": [
    "my_list=[1,2,3]\n",
    "x=np.array(my_list)\n",
    "print(x)\n",
    "type(x)"
   ]
  },
  {
   "cell_type": "markdown",
   "id": "b7f64ff2",
   "metadata": {},
   "source": [
    "## Creating Matrix by Arrays\n",
    "\n"
   ]
  },
  {
   "cell_type": "code",
   "execution_count": 29,
   "id": "bc5f3e48",
   "metadata": {},
   "outputs": [],
   "source": [
    "my_matrix=[[1,2,3],[4,5,6],[7,8,9]]\n",
    "# 3 columns and 3 rows "
   ]
  },
  {
   "cell_type": "markdown",
   "id": "655eafa6",
   "metadata": {},
   "source": [
    "# Exercise \n",
    "\n",
    "* Make a  3 by 4 matrix \n",
    "* Make a 6 by 6 matrix \n",
    "* Make a 2 by 6 matrix "
   ]
  },
  {
   "cell_type": "code",
   "execution_count": 30,
   "id": "5e3a4be9",
   "metadata": {},
   "outputs": [
    {
     "data": {
      "text/plain": [
       "array([[1, 2, 3],\n",
       "       [4, 5, 6],\n",
       "       [7, 8, 9]])"
      ]
     },
     "execution_count": 30,
     "metadata": {},
     "output_type": "execute_result"
    }
   ],
   "source": [
    "# result indicates that it is two dimensional matrix with 3 columns and 1 row\n",
    "np.array(my_matrix)"
   ]
  },
  {
   "cell_type": "code",
   "execution_count": 5,
   "id": "88e0cf37",
   "metadata": {},
   "outputs": [],
   "source": [
    "my_matrix=[[1,2,3,4],[5,6,6,7],[8,9,10,11]]\n",
    "# 4 columns and 4 rows "
   ]
  },
  {
   "cell_type": "code",
   "execution_count": 6,
   "id": "a4abc67a",
   "metadata": {},
   "outputs": [
    {
     "data": {
      "text/plain": [
       "array([[ 1,  2,  3,  4],\n",
       "       [ 5,  6,  6,  7],\n",
       "       [ 8,  9, 10, 11]])"
      ]
     },
     "execution_count": 6,
     "metadata": {},
     "output_type": "execute_result"
    }
   ],
   "source": [
    "# result indicates that it is two dimensional matrix with 3 columns and 1 row\n",
    "np.array(my_matrix)"
   ]
  },
  {
   "cell_type": "code",
   "execution_count": 7,
   "id": "c3ba324b",
   "metadata": {},
   "outputs": [],
   "source": [
    "my_matrix=[[1,2],[5,6],[8,9,], [3,4]]\n",
    "# 2 columns and 4 rows "
   ]
  },
  {
   "cell_type": "code",
   "execution_count": 8,
   "id": "3cebf401",
   "metadata": {},
   "outputs": [
    {
     "data": {
      "text/plain": [
       "array([[1, 2],\n",
       "       [5, 6],\n",
       "       [8, 9],\n",
       "       [3, 4]])"
      ]
     },
     "execution_count": 8,
     "metadata": {},
     "output_type": "execute_result"
    }
   ],
   "source": [
    "# result indicates that it is two dimensional matrix with 3 columns and 1 row\n",
    "np.array(my_matrix)"
   ]
  },
  {
   "cell_type": "code",
   "execution_count": 31,
   "id": "a794c264",
   "metadata": {},
   "outputs": [
    {
     "data": {
      "text/plain": [
       "[0, 1, 2, 3, 4]"
      ]
     },
     "execution_count": 31,
     "metadata": {},
     "output_type": "execute_result"
    }
   ],
   "source": [
    "list(range(0,5))\n"
   ]
  },
  {
   "cell_type": "code",
   "execution_count": 14,
   "id": "68f07177",
   "metadata": {},
   "outputs": [
    {
     "data": {
      "text/plain": [
       "array([ 0,  5, 10])"
      ]
     },
     "execution_count": 14,
     "metadata": {},
     "output_type": "execute_result"
    }
   ],
   "source": [
    "np.arange(0,11)\n"
   ]
  },
  {
   "cell_type": "code",
   "execution_count": 12,
   "id": "28529b83",
   "metadata": {},
   "outputs": [
    {
     "data": {
      "text/plain": [
       "array([ 1,  4,  7, 10, 13, 16, 19])"
      ]
     },
     "execution_count": 12,
     "metadata": {},
     "output_type": "execute_result"
    }
   ],
   "source": [
    "np.arange(1,21,3)\n",
    "# 1, 13 is the array \n",
    "# 2 is the interval \n"
   ]
  },
  {
   "cell_type": "code",
   "execution_count": null,
   "id": "50439f58",
   "metadata": {},
   "outputs": [],
   "source": []
  },
  {
   "cell_type": "markdown",
   "id": "880c3e26",
   "metadata": {},
   "source": [
    "* Way 5- Creating Arrays through Linear space\n",
    "\n",
    "Linear Space will will create numbers between the given range. Distance between the numbers would be equal. In the example below will create 3 numbers betweeen 0 and 10 with equal distance"
   ]
  },
  {
   "cell_type": "code",
   "execution_count": 16,
   "id": "2643f70d",
   "metadata": {},
   "outputs": [
    {
     "data": {
      "text/plain": [
       "array([ 0.,  5., 10., 15.])"
      ]
     },
     "execution_count": 16,
     "metadata": {},
     "output_type": "execute_result"
    }
   ],
   "source": [
    "np.linspace(0,15,4)"
   ]
  },
  {
   "cell_type": "code",
   "execution_count": 17,
   "id": "91f11e8f",
   "metadata": {},
   "outputs": [
    {
     "data": {
      "text/plain": [
       "array([ 0,  4,  8, 12])"
      ]
     },
     "execution_count": 17,
     "metadata": {},
     "output_type": "execute_result"
    }
   ],
   "source": [
    "np.arange(0,15,4)\n"
   ]
  },
  {
   "cell_type": "code",
   "execution_count": 18,
   "id": "18ab7279",
   "metadata": {},
   "outputs": [
    {
     "data": {
      "text/plain": [
       "array([ 0.        ,  0.38461538,  0.76923077,  1.15384615,  1.53846154,\n",
       "        1.92307692,  2.30769231,  2.69230769,  3.07692308,  3.46153846,\n",
       "        3.84615385,  4.23076923,  4.61538462,  5.        ,  5.38461538,\n",
       "        5.76923077,  6.15384615,  6.53846154,  6.92307692,  7.30769231,\n",
       "        7.69230769,  8.07692308,  8.46153846,  8.84615385,  9.23076923,\n",
       "        9.61538462, 10.        , 10.38461538, 10.76923077, 11.15384615,\n",
       "       11.53846154, 11.92307692, 12.30769231, 12.69230769, 13.07692308,\n",
       "       13.46153846, 13.84615385, 14.23076923, 14.61538462, 15.        ])"
      ]
     },
     "execution_count": 18,
     "metadata": {},
     "output_type": "execute_result"
    }
   ],
   "source": [
    "#generate 30 numbers between 0 to 10\n",
    "np.linspace(0,15,40)"
   ]
  },
  {
   "cell_type": "markdown",
   "id": "f5dea021",
   "metadata": {},
   "source": [
    "## Exercise \n",
    "\n",
    "* Generate 50 numbers between 0 to 20 \n"
   ]
  },
  {
   "cell_type": "code",
   "execution_count": 20,
   "id": "1e78cad3",
   "metadata": {},
   "outputs": [
    {
     "data": {
      "text/plain": [
       "array([ 0.        ,  0.20408163,  0.40816327,  0.6122449 ,  0.81632653,\n",
       "        1.02040816,  1.2244898 ,  1.42857143,  1.63265306,  1.83673469,\n",
       "        2.04081633,  2.24489796,  2.44897959,  2.65306122,  2.85714286,\n",
       "        3.06122449,  3.26530612,  3.46938776,  3.67346939,  3.87755102,\n",
       "        4.08163265,  4.28571429,  4.48979592,  4.69387755,  4.89795918,\n",
       "        5.10204082,  5.30612245,  5.51020408,  5.71428571,  5.91836735,\n",
       "        6.12244898,  6.32653061,  6.53061224,  6.73469388,  6.93877551,\n",
       "        7.14285714,  7.34693878,  7.55102041,  7.75510204,  7.95918367,\n",
       "        8.16326531,  8.36734694,  8.57142857,  8.7755102 ,  8.97959184,\n",
       "        9.18367347,  9.3877551 ,  9.59183673,  9.79591837, 10.        ])"
      ]
     },
     "execution_count": 20,
     "metadata": {},
     "output_type": "execute_result"
    }
   ],
   "source": [
    "\"\"\"if you don't specify the total number of items generated, \n",
    "it will automatically generates 50 numbers\"\"\"\n",
    "np.linspace(0,10)"
   ]
  }
 ],
 "metadata": {
  "kernelspec": {
   "display_name": "Python 3 (ipykernel)",
   "language": "python",
   "name": "python3"
  },
  "language_info": {
   "codemirror_mode": {
    "name": "ipython",
    "version": 3
   },
   "file_extension": ".py",
   "mimetype": "text/x-python",
   "name": "python",
   "nbconvert_exporter": "python",
   "pygments_lexer": "ipython3",
   "version": "3.9.13"
  }
 },
 "nbformat": 4,
 "nbformat_minor": 5
}
