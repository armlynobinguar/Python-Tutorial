{
 "cells": [
  {
   "cell_type": "markdown",
   "id": "2e90fc2a",
   "metadata": {},
   "source": [
    "# Day 1 Python Training "
   ]
  },
  {
   "cell_type": "code",
   "execution_count": 16,
   "id": "a4b38196",
   "metadata": {},
   "outputs": [
    {
     "name": "stdout",
     "output_type": "stream",
     "text": [
      "Hello, World!\n"
     ]
    }
   ],
   "source": [
    "print(\"Hello, World!\")"
   ]
  },
  {
   "cell_type": "code",
   "execution_count": 1,
   "id": "b1d901c9",
   "metadata": {
    "scrolled": true
   },
   "outputs": [
    {
     "name": "stdout",
     "output_type": "stream",
     "text": [
      "Welcome to Accenture Data Bootcamp Data Bootcamp !"
     ]
    }
   ],
   "source": [
    "## Answer \n",
    "\n",
    "print (\"Welcome to\", end = ' ')  \n",
    "\n",
    "print (\"Accenture Data Bootcamp \", end = '') \n",
    "\n",
    "print (\"Data Bootcamp \", end = '!') "
   ]
  },
  {
   "cell_type": "markdown",
   "id": "32a1b8e1",
   "metadata": {},
   "source": [
    "## Exercise \n",
    "\n",
    "\" Welcome to our Day 1 Python Training series of Data Bootcamp!\" "
   ]
  },
  {
   "cell_type": "markdown",
   "id": "8d265b0a",
   "metadata": {},
   "source": [
    "What are your expectations here in our Python Training series? "
   ]
  },
  {
   "cell_type": "markdown",
   "id": "cb571bbd",
   "metadata": {},
   "source": [
    "What are the things that you are excited about today? "
   ]
  },
  {
   "cell_type": "code",
   "execution_count": 7,
   "id": "6eddc63c",
   "metadata": {},
   "outputs": [
    {
     "name": "stdout",
     "output_type": "stream",
     "text": [
      "I am feeling nervous and excited with today's session !"
     ]
    }
   ],
   "source": []
  },
  {
   "cell_type": "code",
   "execution_count": 2,
   "id": "70841134",
   "metadata": {
    "scrolled": false
   },
   "outputs": [
    {
     "name": "stdout",
     "output_type": "stream",
     "text": [
      "Hello World!\n",
      "\n",
      "\n",
      "\n",
      "\n",
      "\n",
      "\n",
      "\n",
      "\n",
      "\n",
      "\n",
      "Hello World!\n"
     ]
    }
   ],
   "source": [
    "print (\"Hello World!\")\n",
    "print (9 * \"\\n\")\n",
    "print (\"Hello World!\")"
   ]
  },
  {
   "cell_type": "code",
   "execution_count": 3,
   "id": "9431790a",
   "metadata": {
    "scrolled": true
   },
   "outputs": [
    {
     "name": "stdout",
     "output_type": "stream",
     "text": [
      "Jan\n",
      "Feb\n",
      "Mar\n",
      "Apr\n",
      "May\n",
      "Jun\n",
      "Jul\n",
      "Aug\n",
      "Sep\n",
      "Oct\n",
      "Nov\n",
      "Dec\n"
     ]
    }
   ],
   "source": [
    "print (\"Jan\\nFeb\\nMar\\nApr\\nMay\\nJun\\nJul\\nAug\\nSep\\nOct\\nNov\\nDec\")\n"
   ]
  },
  {
   "cell_type": "code",
   "execution_count": 4,
   "id": "c53cdd9b",
   "metadata": {},
   "outputs": [
    {
     "name": "stdout",
     "output_type": "stream",
     "text": [
      "Hello\tWorld!\n"
     ]
    }
   ],
   "source": [
    "print (\"Hello\\tWorld!\") # \\t is equal to 4 spaces\n"
   ]
  },
  {
   "cell_type": "code",
   "execution_count": 8,
   "id": "678ecf5f",
   "metadata": {},
   "outputs": [
    {
     "name": "stdout",
     "output_type": "stream",
     "text": [
      "Hello my name is Armielyn Obinguar\n"
     ]
    }
   ],
   "source": [
    "name=\"Armielyn Obinguar\"\n",
    "print(\"Hello my name is {}\".format (name))"
   ]
  },
  {
   "cell_type": "code",
   "execution_count": 5,
   "id": "2ae5324f",
   "metadata": {
    "scrolled": false
   },
   "outputs": [
    {
     "name": "stdout",
     "output_type": "stream",
     "text": [
      "Hello my new name is Armielyn and my age is Armielyn\n"
     ]
    }
   ],
   "source": [
    "print(\"Hello my new name is {0} and my age is {0}\".format(\"Armielyn\"))\n"
   ]
  },
  {
   "cell_type": "code",
   "execution_count": 16,
   "id": "4be7b080",
   "metadata": {
    "scrolled": true
   },
   "outputs": [
    {
     "name": "stdout",
     "output_type": "stream",
     "text": [
      "Hi my name is Armielyn Obinguar and my country is Philippines\n"
     ]
    }
   ],
   "source": [
    "country = \"Philippines\"\n",
    "print(\"Hi my name is {} and my country is {}\".format(name,country))"
   ]
  },
  {
   "cell_type": "code",
   "execution_count": 12,
   "id": "2399d8f9",
   "metadata": {
    "scrolled": true
   },
   "outputs": [
    {
     "name": "stdout",
     "output_type": "stream",
     "text": [
      "Hi my name is Armielyn Obinguar and my age is 16\n"
     ]
    }
   ],
   "source": [
    "age = '16'\n",
    "print (\"Hi my name is {} and my age is {}\".format(name,age))\n"
   ]
  },
  {
   "cell_type": "code",
   "execution_count": 17,
   "id": "b8248c11",
   "metadata": {},
   "outputs": [
    {
     "name": "stdout",
     "output_type": "stream",
     "text": [
      "\n",
      "Routine:\n",
      "\t- Eat\n",
      "\t- Study\n",
      "\t- Sleep\n",
      "\t- Repeat\n",
      "\n"
     ]
    }
   ],
   "source": [
    "print (\"\"\"\n",
    "Routine:\n",
    "\\t- Eat\n",
    "\\t- Study\n",
    "\\t- Sleep\\n\\t- Repeat\n",
    "\"\"\")"
   ]
  },
  {
   "cell_type": "markdown",
   "id": "314a4c0b",
   "metadata": {},
   "source": [
    "## Exercise \n",
    "\n",
    "* Create a python scripts that includes your name and your role here in Accenture \n",
    "\n"
   ]
  },
  {
   "cell_type": "markdown",
   "id": "3b33a124",
   "metadata": {},
   "source": [
    "## PRINT END COMMAND\n"
   ]
  },
  {
   "cell_type": "code",
   "execution_count": 1,
   "id": "b1b3af5d",
   "metadata": {},
   "outputs": [
    {
     "name": "stdout",
     "output_type": "stream",
     "text": [
      "Welcome to Python!"
     ]
    }
   ],
   "source": [
    "print (\"Welcome to\", end = ' ') \n",
    "print (\"Python\", end = '!')"
   ]
  },
  {
   "cell_type": "code",
   "execution_count": 19,
   "id": "aed96645",
   "metadata": {},
   "outputs": [
    {
     "name": "stdout",
     "output_type": "stream",
     "text": [
      "Hello Hello Hello Hello Hello Hello \n"
     ]
    }
   ],
   "source": [
    "print(\"Hello \" * 6)"
   ]
  },
  {
   "cell_type": "code",
   "execution_count": 18,
   "id": "a0563660",
   "metadata": {},
   "outputs": [
    {
     "name": "stdout",
     "output_type": "stream",
     "text": [
      "Python @"
     ]
    }
   ],
   "source": [
    "print(\"Python \" , end = '@') # ends the output with '@'.  # !  # ''\n"
   ]
  },
  {
   "cell_type": "code",
   "execution_count": 20,
   "id": "9b1932ed",
   "metadata": {},
   "outputs": [
    {
     "name": "stdout",
     "output_type": "stream",
     "text": [
      "_M_M_M_M_M_M_M_M_M\n"
     ]
    }
   ],
   "source": [
    "print ('_M'*9)\n"
   ]
  },
  {
   "cell_type": "markdown",
   "id": "0f1a57be",
   "metadata": {},
   "source": [
    "## Python Variables and Constants\n"
   ]
  },
  {
   "cell_type": "code",
   "execution_count": 7,
   "id": "7a10848c",
   "metadata": {},
   "outputs": [],
   "source": [
    "#Example 1: Declaring and assigning value to a variable\n"
   ]
  },
  {
   "cell_type": "code",
   "execution_count": 8,
   "id": "cba3189c",
   "metadata": {},
   "outputs": [
    {
     "data": {
      "text/plain": [
       "9.1"
      ]
     },
     "execution_count": 8,
     "metadata": {},
     "output_type": "execute_result"
    }
   ],
   "source": [
    "number = 90\n",
    "number = 9.1\n",
    "number"
   ]
  },
  {
   "cell_type": "code",
   "execution_count": 10,
   "id": "493834d1",
   "metadata": {
    "scrolled": true
   },
   "outputs": [
    {
     "name": "stdout",
     "output_type": "stream",
     "text": [
      "Accenture.com\n"
     ]
    }
   ],
   "source": [
    "website = \"Accenture.com\"  # `website` is my variable and `github.com` is an argument\n",
    "print(website)"
   ]
  },
  {
   "cell_type": "code",
   "execution_count": 11,
   "id": "d3b016d9",
   "metadata": {},
   "outputs": [
    {
     "name": "stdout",
     "output_type": "stream",
     "text": [
      "Hello , World !\n"
     ]
    }
   ],
   "source": [
    "print('Hello',',', 'World','!') # it can take multiple arguments, 4 arguments have been passed\n"
   ]
  },
  {
   "cell_type": "code",
   "execution_count": 22,
   "id": "e32d6e24",
   "metadata": {},
   "outputs": [],
   "source": [
    "first_name = 'Armielyn'\n",
    "last_name = 'Obinguar'\n",
    "country = 'Philippines'\n",
    "city = 'Manila'\n",
    "age = 21\n",
    "is_married = False\n",
    "skills = ['Python', 'Matlab', 'JS', 'C', 'C++']\n",
    "person_info = {\n",
    "   'firstname':'Armielyn',\n",
    "   'lastname':'Obinguar',\n",
    "   'country':'Philippines',\n",
    "   'city':'Manila'\n",
    "    }"
   ]
  },
  {
   "cell_type": "code",
   "execution_count": 23,
   "id": "4aba0aea",
   "metadata": {},
   "outputs": [
    {
     "name": "stdout",
     "output_type": "stream",
     "text": [
      "First name: Armielyn\n",
      "First name length: 8\n",
      "Last name:  Obinguar\n",
      "Last name length:  8\n",
      "Country:  Philippines\n",
      "City:  Manila\n",
      "Age:  21\n",
      "Married:  False\n",
      "Skills:  ['Python', 'Matlab', 'JS', 'C', 'C++']\n",
      "Person information:  {'firstname': 'Armielyn', 'lastname': 'Obinguar', 'country': 'Philippines', 'city': 'Manila'}\n"
     ]
    }
   ],
   "source": [
    "# Printing the values stored in the variables\n",
    "\n",
    "print('First name:', first_name)\n",
    "print('First name length:', len(first_name))\n",
    "print('Last name: ', last_name)\n",
    "print('Last name length: ', len(last_name))\n",
    "print('Country: ', country)\n",
    "print('City: ', city)\n",
    "print('Age: ', age)\n",
    "print('Married: ', is_married)\n",
    "print('Skills: ', skills)\n",
    "print('Person information: ', person_info)"
   ]
  },
  {
   "cell_type": "markdown",
   "id": "ce5008bb",
   "metadata": {},
   "source": [
    "\n",
    "## Exercise 1 (25 pts) \n",
    "\n",
    "Create your own skills & certification information sheet using Python \n",
    "* You must have an input for your first name, last name and middle initial (5 points)\n",
    "* You must also include your role in Accenture (5 points)\n",
    "* You must also have an input for your existing skills and certification (5 points)\n",
    "* You must also input the years of experience for each of the skills you mentioned (10 points)\n",
    "\n",
    "\n",
    "Paste the screenshot of your results on our MSteams chat \n"
   ]
  },
  {
   "cell_type": "code",
   "execution_count": 17,
   "id": "23e64c81",
   "metadata": {},
   "outputs": [],
   "source": [
    "# Set your variables to First_name, Last_name, Accenture_role, Skills, Person_info "
   ]
  },
  {
   "cell_type": "code",
   "execution_count": 25,
   "id": "1ed95cf5",
   "metadata": {},
   "outputs": [],
   "source": [
    "first_name = 'Armielyn'\n",
    "last_name = 'Obinguar'\n",
    "middle_initial = 'Carabot'\n",
    "role_accenture = 'Application Development Senior Analyst'\n",
    "skills = ['Python', 'Matlab', 'JS', 'C', 'C++']\n",
    "years_of_experience = ['3 years', '1 year', '1 year', '1 year', '1 year']\n",
    "certification = ['Certified Data Scientist', 'Certified Machine Learning Engineer']\n",
    "person_info = {\n",
    "   'firstname':'Armielyn',\n",
    "   'lastname':'Obinguar',\n",
    "    'middleinitial': 'Carabot'\n",
    "    }"
   ]
  },
  {
   "cell_type": "code",
   "execution_count": 26,
   "id": "7f566d13",
   "metadata": {
    "scrolled": true
   },
   "outputs": [
    {
     "name": "stdout",
     "output_type": "stream",
     "text": [
      "First name: Armielyn\n",
      "First name length: 8\n",
      "Last name:  Obinguar\n",
      "Last name legth:  8\n",
      "Middle initial:  Carabot\n",
      "Middle initial length:  7\n",
      "Skills:  ['Python', 'Matlab', 'JS', 'C', 'C++']\n",
      "Years of Experience:  ['3 years', '1 year', '1 year', '1 year', '1 year']\n",
      "Certification:  ['Certified Data Scientist', 'Certified Machine Learning Engineer']\n",
      "Person information:  {'firstname': 'Armielyn', 'lastname': 'Obinguar', 'middleinitial': 'Carabot'}\n"
     ]
    }
   ],
   "source": [
    "# Printing the values stored in the variables\n",
    "\n",
    "print('First name:', first_name)\n",
    "print('First name length:', len(first_name))\n",
    "print('Last name: ', last_name)\n",
    "print('Last name legth: ', len(last_name))\n",
    "print('Middle initial: ', middle_initial)\n",
    "print('Middle initial length: ', len(middle_initial))\n",
    "print('Skills: ', skills)\n",
    "print('Years of Experience: ', years_of_experience)\n",
    "print('Certification: ', certification)\n",
    "print('Person information: ', person_info)"
   ]
  },
  {
   "cell_type": "markdown",
   "id": "8fa87c91",
   "metadata": {},
   "source": [
    "## Exercise 3 \n",
    "\n",
    "Create your own likes & favorites information sheet using Python\n",
    "\n",
    "* You must have an input for your first name, last name and middle initial (5 points)\n",
    "* You must have an input for your favorite movie, favorite singer, favorite genre, favorite food (10 points)\n",
    "* You must also include your most likes  such as TV shows, TV channels, ,TV actor (5 points)\n",
    "* You must also have an input on  how long have you been watching the mentioned TV channels (5 points)\n",
    "\n",
    "Paste the screenshot of your results on our MSteams chat\n"
   ]
  },
  {
   "cell_type": "code",
   "execution_count": 1,
   "id": "392085b6",
   "metadata": {},
   "outputs": [],
   "source": [
    "first_name = 'Armielyn'\n",
    "last_name = 'Obinguar'\n",
    "middle_initial = 'Carabot'\n",
    "favorite_movie = 'Titanic'\n",
    "favorite_genre= 'Romantic Comedy'\n",
    "favorite_food = 'Adobo'\n",
    "favorite_tv_shows = ['Big Bang Theory', 'How I Met Your Mother']\n",
    "favorite_tv_channels = ['GMA7', 'ABS-CBN']\n",
    "favorite_tv_actor = 'Tom Cruise'\n",
    "years_of_watch_channels = ['8 years', '15 years']\n",
    "person_info = {\n",
    "   'firstname':'Armielyn',\n",
    "   'lastname':'Obinguar',\n",
    "    'middleinitial': 'Carabot'\n",
    "    }"
   ]
  },
  {
   "cell_type": "code",
   "execution_count": 2,
   "id": "85c90989",
   "metadata": {},
   "outputs": [
    {
     "name": "stdout",
     "output_type": "stream",
     "text": [
      "First name: Armielyn\n",
      "First name length: 8\n",
      "Last name:  Obinguar\n",
      "Last name length:  8\n",
      "Middle initial:  Carabot\n",
      "Middle initial length:  7\n",
      "Favorite movie:  Titanic\n",
      "Favorite genre:  Romantic Comedy\n",
      "Favorite food:  Adobo\n",
      "Favorite TV shows:  ['Big Bang Theory', 'How I Met Your Mother']\n",
      "Favorite TV channels:  ['GMA7', 'ABS-CBN']\n",
      "Favorite TV actor:  Tom Cruise\n",
      "Years of Watch Channels:  ['8 years', '15 years']\n",
      "Person information:  {'firstname': 'Armielyn', 'lastname': 'Obinguar', 'middleinitial': 'Carabot'}\n"
     ]
    }
   ],
   "source": [
    "# Printing the values stored in the variables\n",
    "\n",
    "print('First name:', first_name)\n",
    "print('First name length:', len(first_name))\n",
    "print('Last name: ', last_name)\n",
    "print('Last name length: ', len(last_name))\n",
    "print('Middle initial: ', middle_initial)\n",
    "print('Middle initial length: ', len(middle_initial))\n",
    "print('Favorite movie: ', favorite_movie)\n",
    "print('Favorite genre: ', favorite_genre)\n",
    "print('Favorite food: ', favorite_food)\n",
    "print('Favorite TV shows: ', favorite_tv_shows)\n",
    "print('Favorite TV channels: ', favorite_tv_channels)\n",
    "print('Favorite TV actor: ', favorite_tv_actor)\n",
    "print('Years of Watch Channels: ', years_of_watch_channels)\n",
    "print('Person information: ', person_info)"
   ]
  },
  {
   "cell_type": "markdown",
   "id": "0eadb910",
   "metadata": {},
   "source": [
    "## Example 2"
   ]
  },
  {
   "cell_type": "code",
   "execution_count": 26,
   "id": "ceec92b5",
   "metadata": {},
   "outputs": [
    {
     "name": "stdout",
     "output_type": "stream",
     "text": [
      "6 9.3 Hi, Accenture Technology People!\n",
      "6\n",
      "Hi, Accenture Technology People!\n"
     ]
    },
    {
     "data": {
      "text/plain": [
       "(6, 9.3, 'Hi, Accenture Technology People!')"
      ]
     },
     "execution_count": 26,
     "metadata": {},
     "output_type": "execute_result"
    }
   ],
   "source": [
    "a, b, c = 6, 9.3, \"Hi, Accenture Technology People!\"\n",
    "\n",
    "print (a,b,c)\n",
    "print (a)\n",
    "print (c)\n",
    "a,b,c"
   ]
  },
  {
   "cell_type": "code",
   "execution_count": 29,
   "id": "293e13ef",
   "metadata": {},
   "outputs": [
    {
     "name": "stdout",
     "output_type": "stream",
     "text": [
      "1 2 3\n"
     ]
    },
    {
     "data": {
      "text/plain": [
       "(1, 2, 3)"
      ]
     },
     "execution_count": 29,
     "metadata": {},
     "output_type": "execute_result"
    }
   ],
   "source": [
    "a = 1; b = 2; c = 3\n",
    "print(a,b,c)  # outout: 1 2 3\n",
    "a,b,c         # outout: 1 2 3"
   ]
  },
  {
   "cell_type": "code",
   "execution_count": 31,
   "id": "7181ae98",
   "metadata": {
    "scrolled": true
   },
   "outputs": [
    {
     "name": "stdout",
     "output_type": "stream",
     "text": [
      "Armielyn Obinguar Carabot\n",
      "First name: Armielyn\n",
      "Last name:  Obinguar\n",
      "Skills:  ['Python', 'Matlab', 'JS', 'C', 'C++']\n",
      "Certification:  ['Certified Data Scientist', 'Certified Machine Learning Engineer']\n"
     ]
    }
   ],
   "source": [
    "first_name, last_name, middle_initial = 'Armielyn', 'Obinguar', 'Carabot'\n",
    "\n",
    "print(first_name, last_name, middle_initial)\n",
    "print('First name:', first_name)\n",
    "print('Last name: ', last_name)\n",
    "print('Skills: ', skills)\n",
    "print('Certification: ',certification)  \n"
   ]
  },
  {
   "cell_type": "code",
   "execution_count": 32,
   "id": "35beb016",
   "metadata": {
    "scrolled": true
   },
   "outputs": [
    {
     "name": "stdout",
     "output_type": "stream",
     "text": [
      "same\n",
      "same\n",
      "same\n"
     ]
    }
   ],
   "source": [
    "x = y = z = \"same\"\n",
    "\n",
    "print (x)\n",
    "print (y)\n",
    "print (z)"
   ]
  },
  {
   "cell_type": "code",
   "execution_count": 28,
   "id": "02abfd1f",
   "metadata": {},
   "outputs": [
    {
     "name": "stdout",
     "output_type": "stream",
     "text": [
      "300 300 300\n"
     ]
    },
    {
     "data": {
      "text/plain": [
       "(300, 300, 300)"
      ]
     },
     "execution_count": 28,
     "metadata": {},
     "output_type": "execute_result"
    }
   ],
   "source": [
    "p = q = r = 300   # Assigning value together\n",
    "print(p, q, r)  # Printing value together\n",
    "p, q, r"
   ]
  },
  {
   "cell_type": "markdown",
   "id": "c753f577",
   "metadata": {},
   "source": [
    "## Example 3: Changing the value of a variable\n"
   ]
  },
  {
   "cell_type": "code",
   "execution_count": 30,
   "id": "cc21406e",
   "metadata": {},
   "outputs": [
    {
     "name": "stdout",
     "output_type": "stream",
     "text": [
      "accenture.com\n",
      "python.com\n"
     ]
    }
   ],
   "source": [
    "website = \"accenture.com\"\n",
    "print(website)\n",
    "\n",
    "# assigning a new variable to website\n",
    "website = \"python.com\"\n",
    "\n",
    "print(website)"
   ]
  },
  {
   "cell_type": "code",
   "execution_count": 13,
   "id": "f2ebc1bc",
   "metadata": {},
   "outputs": [
    {
     "name": "stdout",
     "output_type": "stream",
     "text": [
      "300\n"
     ]
    },
    {
     "data": {
      "text/plain": [
       "300"
      ]
     },
     "execution_count": 13,
     "metadata": {},
     "output_type": "execute_result"
    }
   ],
   "source": [
    "n=300\n",
    "print(n)\n",
    "n"
   ]
  },
  {
   "cell_type": "code",
   "execution_count": 36,
   "id": "018c824a",
   "metadata": {},
   "outputs": [
    {
     "name": "stdout",
     "output_type": "stream",
     "text": [
      "300\n",
      "1000\n"
     ]
    }
   ],
   "source": [
    "m=n\n",
    "print(n)\n",
    "\n",
    "m = 1000   # assigning a new value to n\n",
    "print(m)"
   ]
  },
  {
   "cell_type": "code",
   "execution_count": 1,
   "id": "216d6bb6",
   "metadata": {},
   "outputs": [
    {
     "name": "stdout",
     "output_type": "stream",
     "text": [
      "Python is Fun\n",
      "10\n"
     ]
    }
   ],
   "source": [
    "# Declare & Redeclare variables\n",
    "m = \"Python is Fun\"\n",
    "print(m)\n",
    "m = 10\n",
    "print (m)"
   ]
  },
  {
   "cell_type": "markdown",
   "id": "64001ac8",
   "metadata": {},
   "source": [
    "## Constants "
   ]
  },
  {
   "cell_type": "code",
   "execution_count": 38,
   "id": "bc380af2",
   "metadata": {
    "scrolled": true
   },
   "outputs": [
    {
     "name": "stdout",
     "output_type": "stream",
     "text": [
      "Axel 54 True\n"
     ]
    }
   ],
   "source": [
    "name = \"Axel\"\n",
    "Age = 54\n",
    "has_W2 = True\n",
    "print(name, Age, has_W2) #format."
   ]
  },
  {
   "cell_type": "code",
   "execution_count": 14,
   "id": "fb387360",
   "metadata": {},
   "outputs": [],
   "source": [
    "filed_2001 = False    # cannot start name of a variable with a number.\n"
   ]
  },
  {
   "cell_type": "code",
   "execution_count": 33,
   "id": "74a59e3a",
   "metadata": {},
   "outputs": [
    {
     "name": "stdout",
     "output_type": "stream",
     "text": [
      "2022\n"
     ]
    },
    {
     "data": {
      "text/plain": [
       "'2022'"
      ]
     },
     "execution_count": 33,
     "metadata": {},
     "output_type": "execute_result"
    }
   ],
   "source": [
    "year_filled = '2022'\n",
    "print(year_filled)\n",
    "year_filled\n"
   ]
  },
  {
   "cell_type": "markdown",
   "id": "eac696b4",
   "metadata": {},
   "source": [
    "## Exercise 2 \n",
    "\n"
   ]
  },
  {
   "cell_type": "code",
   "execution_count": 35,
   "id": "76cc17d8",
   "metadata": {},
   "outputs": [
    {
     "name": "stdout",
     "output_type": "stream",
     "text": [
      "4\n"
     ]
    }
   ],
   "source": [
    "#Fill the print function so it prints glass_of_water\n",
    "\n",
    "glass_of_water=3\n",
    "\n",
    "glass_of_water=glass_of_water + 1\n",
    "\n",
    "\n",
    "print(glass_of_water)"
   ]
  },
  {
   "cell_type": "markdown",
   "id": "9fd8c288",
   "metadata": {},
   "source": [
    "## Answer "
   ]
  },
  {
   "cell_type": "code",
   "execution_count": 46,
   "id": "c7fd0238",
   "metadata": {},
   "outputs": [
    {
     "name": "stdout",
     "output_type": "stream",
     "text": [
      "Welcome to Accenture Data Bootcamp !"
     ]
    }
   ],
   "source": [
    "print (\"Welcome to\", end = ' ') \n",
    "print (\"Accenture \", end = '')\n",
    "print (\"Data Bootcamp \", end = '!')"
   ]
  }
 ],
 "metadata": {
  "kernelspec": {
   "display_name": "Python 3 (ipykernel)",
   "language": "python",
   "name": "python3"
  },
  "language_info": {
   "codemirror_mode": {
    "name": "ipython",
    "version": 3
   },
   "file_extension": ".py",
   "mimetype": "text/x-python",
   "name": "python",
   "nbconvert_exporter": "python",
   "pygments_lexer": "ipython3",
   "version": "3.9.13"
  }
 },
 "nbformat": 4,
 "nbformat_minor": 5
}
