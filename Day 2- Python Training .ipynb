{
 "cells": [
  {
   "cell_type": "markdown",
   "id": "12258a9c",
   "metadata": {},
   "source": [
    "## Lesson 3: Functions\n"
   ]
  },
  {
   "cell_type": "code",
   "execution_count": 1,
   "id": "1d2edb6f",
   "metadata": {},
   "outputs": [],
   "source": [
    "def my_func():\n",
    "    print('hello, Data bootcamp learners!')"
   ]
  },
  {
   "cell_type": "code",
   "execution_count": 3,
   "id": "f95173e5",
   "metadata": {},
   "outputs": [
    {
     "name": "stdout",
     "output_type": "stream",
     "text": [
      "hello, Data bootcamp learners!\n"
     ]
    }
   ],
   "source": [
    "my_func()"
   ]
  },
  {
   "cell_type": "markdown",
   "id": "5edbde04",
   "metadata": {},
   "source": [
    "## functions with parameter\n",
    "\n"
   ]
  },
  {
   "cell_type": "code",
   "execution_count": 16,
   "id": "a6b61191",
   "metadata": {},
   "outputs": [],
   "source": [
    "def myfunc(param,param2='class'):\n",
    "    print(param,param2)"
   ]
  },
  {
   "cell_type": "code",
   "execution_count": 14,
   "id": "eeac125d",
   "metadata": {},
   "outputs": [
    {
     "data": {
      "text/plain": [
       "<function __main__.myfunc(param, param2='class')>"
      ]
     },
     "execution_count": 14,
     "metadata": {},
     "output_type": "execute_result"
    }
   ],
   "source": [
    "myfunc"
   ]
  },
  {
   "cell_type": "code",
   "execution_count": 11,
   "id": "e33ec6fb",
   "metadata": {},
   "outputs": [
    {
     "name": "stdout",
     "output_type": "stream",
     "text": [
      "this is Python Day 2 Training class\n"
     ]
    }
   ],
   "source": [
    "myfunc('this is Python Day 2 Training')\n"
   ]
  },
  {
   "cell_type": "code",
   "execution_count": 15,
   "id": "f288af99",
   "metadata": {},
   "outputs": [
    {
     "name": "stdout",
     "output_type": "stream",
     "text": [
      "Hello world\n",
      "Hi class\n"
     ]
    }
   ],
   "source": [
    "#The myfunc function takes two parameters: param and param2, with a default value of 'class' assigned to param2.\n",
    "\n",
    "#When the function is called and provided with values for param and param2 (if applicable), it will print these values to the console. For example:\n",
    "\n",
    "myfunc('Hello', 'world')\n",
    "# Output: Hello world\n",
    "\n",
    "myfunc('Hi')\n",
    "# Output: Hi class\n",
    "#In the first example, the values of param and param2 are 'Hello' and 'world' respectively, and both are printed to the console. In the second example, only the value of param is provided ('Hi'), and so the default value of 'class' is used for param2."
   ]
  },
  {
   "cell_type": "code",
   "execution_count": 2,
   "id": "69c1ebf8",
   "metadata": {},
   "outputs": [],
   "source": [
    "# functions with default parameter\n",
    "# docstrings is just a comment \n",
    "\n",
    "def myfunc1(param=5):\n",
    "    \"\"\"\n",
    "    data bootcamp \n",
    "    \"\"\"\n",
    "    print(param)\n",
    "    #return param\n"
   ]
  },
  {
   "cell_type": "code",
   "execution_count": 3,
   "id": "8e816a21",
   "metadata": {},
   "outputs": [
    {
     "name": "stdout",
     "output_type": "stream",
     "text": [
      "5\n"
     ]
    }
   ],
   "source": [
    "myfunc1() # here we are not passing any parameter to the function\n",
    "#since it is already declared as default in function"
   ]
  },
  {
   "cell_type": "code",
   "execution_count": 8,
   "id": "6508df42",
   "metadata": {},
   "outputs": [],
   "source": [
    "def myfunc1(argument):\n",
    "    \"\"\"\n",
    "    docstring goes here!\n",
    "    \"\"\"\n",
    "    return (argument *5)"
   ]
  },
  {
   "cell_type": "code",
   "execution_count": 9,
   "id": "e62e6018",
   "metadata": {},
   "outputs": [
    {
     "data": {
      "text/plain": [
       "30"
      ]
     },
     "execution_count": 9,
     "metadata": {},
     "output_type": "execute_result"
    }
   ],
   "source": [
    "x=myfunc1(6)\n",
    "x\n",
    "#30"
   ]
  },
  {
   "cell_type": "markdown",
   "id": "a24d2dc1",
   "metadata": {},
   "source": [
    "## Methods\n",
    "\n",
    "String Upper and String Lower"
   ]
  },
  {
   "cell_type": "code",
   "execution_count": 13,
   "id": "13cf81c8",
   "metadata": {},
   "outputs": [],
   "source": [
    "st=\"hello python DAY 2 LeArNerS\"\n",
    "\n",
    "# columns \" name\""
   ]
  },
  {
   "cell_type": "code",
   "execution_count": 14,
   "id": "3b7427d6",
   "metadata": {},
   "outputs": [
    {
     "data": {
      "text/plain": [
       "'hello python day 2 learners'"
      ]
     },
     "execution_count": 14,
     "metadata": {},
     "output_type": "execute_result"
    }
   ],
   "source": [
    "st.lower()\n"
   ]
  },
  {
   "cell_type": "code",
   "execution_count": 15,
   "id": "23e40ae6",
   "metadata": {},
   "outputs": [
    {
     "data": {
      "text/plain": [
       "'HELLO PYTHON DAY 2 LEARNERS'"
      ]
     },
     "execution_count": 15,
     "metadata": {},
     "output_type": "execute_result"
    }
   ],
   "source": [
    "st.upper()"
   ]
  },
  {
   "cell_type": "markdown",
   "id": "de9c15c7",
   "metadata": {},
   "source": [
    "## Split method\n",
    "\n"
   ]
  },
  {
   "cell_type": "code",
   "execution_count": 16,
   "id": "047c028c",
   "metadata": {},
   "outputs": [],
   "source": [
    "tweet=\"Go Accenture Technology People ! #DataBootcamp\"\n"
   ]
  },
  {
   "cell_type": "code",
   "execution_count": 17,
   "id": "2790973d",
   "metadata": {},
   "outputs": [
    {
     "data": {
      "text/plain": [
       "['Go', 'Accenture', 'Technology', 'People', '!', '#DataBootcamp']"
      ]
     },
     "execution_count": 17,
     "metadata": {},
     "output_type": "execute_result"
    }
   ],
   "source": [
    "#splits with white space. This is the default one\n",
    "tweet.split()   # \\n or \\t"
   ]
  },
  {
   "cell_type": "code",
   "execution_count": 19,
   "id": "6ac8e4d3",
   "metadata": {},
   "outputs": [
    {
     "data": {
      "text/plain": [
       "'Go Accenture Technology People ! #DataBootcamp'"
      ]
     },
     "execution_count": 19,
     "metadata": {},
     "output_type": "execute_result"
    }
   ],
   "source": [
    "tweet"
   ]
  },
  {
   "cell_type": "code",
   "execution_count": 20,
   "id": "4fced16c",
   "metadata": {},
   "outputs": [
    {
     "data": {
      "text/plain": [
       "'go accenture technology people ! #databootcamp'"
      ]
     },
     "execution_count": 20,
     "metadata": {},
     "output_type": "execute_result"
    }
   ],
   "source": [
    "tweet.lower()"
   ]
  },
  {
   "cell_type": "code",
   "execution_count": 21,
   "id": "07ca61a7",
   "metadata": {},
   "outputs": [
    {
     "data": {
      "text/plain": [
       "'GO ACCENTURE TECHNOLOGY PEOPLE ! #DATABOOTCAMP'"
      ]
     },
     "execution_count": 21,
     "metadata": {},
     "output_type": "execute_result"
    }
   ],
   "source": [
    "tweet.upper()"
   ]
  },
  {
   "cell_type": "markdown",
   "id": "de015d44",
   "metadata": {},
   "source": [
    "# Understanding Numpy"
   ]
  },
  {
   "cell_type": "markdown",
   "id": "ae6403b9",
   "metadata": {},
   "source": [
    "* Numpy Data types\n",
    "* Numpy Arrays\n",
    "* Numpy Indexing and Selection\n",
    "* Numpy Operations\n",
    "* Numpy Broadcasting"
   ]
  },
  {
   "cell_type": "code",
   "execution_count": 19,
   "id": "1175d47f",
   "metadata": {},
   "outputs": [
    {
     "name": "stdout",
     "output_type": "stream",
     "text": [
      "Requirement already satisfied: numpy in c:\\users\\armielyn.obinguar\\anaconda3\\lib\\site-packages (1.21.5)\n",
      "Requirement already satisfied: matplotlib in c:\\users\\armielyn.obinguar\\anaconda3\\lib\\site-packages (3.5.2)\n",
      "Requirement already satisfied: kiwisolver>=1.0.1 in c:\\users\\armielyn.obinguar\\anaconda3\\lib\\site-packages (from matplotlib) (1.4.2)\n",
      "Requirement already satisfied: numpy>=1.17 in c:\\users\\armielyn.obinguar\\anaconda3\\lib\\site-packages (from matplotlib) (1.21.5)\n",
      "Requirement already satisfied: pyparsing>=2.2.1 in c:\\users\\armielyn.obinguar\\anaconda3\\lib\\site-packages (from matplotlib) (3.0.9)\n",
      "Requirement already satisfied: python-dateutil>=2.7 in c:\\users\\armielyn.obinguar\\anaconda3\\lib\\site-packages (from matplotlib) (2.8.2)\n",
      "Requirement already satisfied: pillow>=6.2.0 in c:\\users\\armielyn.obinguar\\anaconda3\\lib\\site-packages (from matplotlib) (9.2.0)\n",
      "Requirement already satisfied: cycler>=0.10 in c:\\users\\armielyn.obinguar\\anaconda3\\lib\\site-packages (from matplotlib) (0.11.0)\n",
      "Requirement already satisfied: packaging>=20.0 in c:\\users\\armielyn.obinguar\\anaconda3\\lib\\site-packages (from matplotlib) (21.3)\n",
      "Requirement already satisfied: fonttools>=4.22.0 in c:\\users\\armielyn.obinguar\\anaconda3\\lib\\site-packages (from matplotlib) (4.25.0)\n",
      "Requirement already satisfied: six>=1.5 in c:\\users\\armielyn.obinguar\\anaconda3\\lib\\site-packages (from python-dateutil>=2.7->matplotlib) (1.16.0)\n"
     ]
    }
   ],
   "source": [
    "!pip install numpy \n",
    "!pip install matplotlib"
   ]
  },
  {
   "cell_type": "code",
   "execution_count": 18,
   "id": "3d7f170e",
   "metadata": {},
   "outputs": [],
   "source": [
    "# pip install numpy "
   ]
  },
  {
   "cell_type": "code",
   "execution_count": 4,
   "id": "9fbc5e50",
   "metadata": {},
   "outputs": [],
   "source": [
    "import numpy as np"
   ]
  },
  {
   "cell_type": "code",
   "execution_count": 23,
   "id": "63269553",
   "metadata": {},
   "outputs": [
    {
     "name": "stdout",
     "output_type": "stream",
     "text": [
      "int32\n"
     ]
    }
   ],
   "source": [
    "d = np.dtype(np.int32)  \n",
    "print(d) "
   ]
  },
  {
   "cell_type": "code",
   "execution_count": 24,
   "id": "27bb7825",
   "metadata": {},
   "outputs": [
    {
     "name": "stdout",
     "output_type": "stream",
     "text": [
      "array: [2 3 4]\n"
     ]
    },
    {
     "data": {
      "text/plain": [
       "numpy.ndarray"
      ]
     },
     "execution_count": 24,
     "metadata": {},
     "output_type": "execute_result"
    }
   ],
   "source": [
    "list1=[2,3,4]\n",
    "arr=np.array(list1)\n",
    "print(\"array:\",arr)\n",
    "type(arr)     # array "
   ]
  },
  {
   "cell_type": "markdown",
   "id": "fed8f15a",
   "metadata": {},
   "source": [
    "## Numpy Arrays\n"
   ]
  },
  {
   "cell_type": "code",
   "execution_count": 25,
   "id": "181822de",
   "metadata": {},
   "outputs": [
    {
     "name": "stdout",
     "output_type": "stream",
     "text": [
      "array: [6 7 8]\n",
      "type of arr: int32\n"
     ]
    }
   ],
   "source": [
    "#integer Array\n",
    "arr=array([6,7,8])   # array is for numpy [1,2,3]\n",
    "print(\"array:\",arr)\n",
    "#type of an array\n",
    "print(\"type of arr:\",arr.dtype) "
   ]
  },
  {
   "cell_type": "code",
   "execution_count": 26,
   "id": "1ec762dc",
   "metadata": {},
   "outputs": [
    {
     "name": "stdout",
     "output_type": "stream",
     "text": [
      "array: [6.  7.  8.4]\n",
      "type of arr: float64\n"
     ]
    }
   ],
   "source": [
    "#float Array\n",
    "arr=array([6,7,8.4])\n",
    "print(\"array:\",arr)\n",
    "#type of an array\n",
    "print(\"type of arr:\",arr.dtype)"
   ]
  },
  {
   "cell_type": "code",
   "execution_count": 27,
   "id": "a57ee122",
   "metadata": {},
   "outputs": [
    {
     "name": "stdout",
     "output_type": "stream",
     "text": [
      "array: [7. 8. 9.]\n",
      "type of arr1: float64\n"
     ]
    }
   ],
   "source": [
    "#we can also create a float array with integers by declaring a key word float\n",
    "arr1=array([7,8,9],float)\n",
    "print(\"array:\",arr1)\n",
    "print(\"type of arr1:\",arr1.dtype)"
   ]
  },
  {
   "cell_type": "code",
   "execution_count": 28,
   "id": "b5d76820",
   "metadata": {},
   "outputs": [
    {
     "name": "stdout",
     "output_type": "stream",
     "text": [
      "[1 2 3]\n"
     ]
    },
    {
     "data": {
      "text/plain": [
       "numpy.ndarray"
      ]
     },
     "execution_count": 28,
     "metadata": {},
     "output_type": "execute_result"
    }
   ],
   "source": [
    "my_list=[1,2,3]\n",
    "x=np.array(my_list)   \n",
    "print(x)\n",
    "type(x)"
   ]
  },
  {
   "cell_type": "markdown",
   "id": "b7f64ff2",
   "metadata": {},
   "source": [
    "## Creating Matrix by Arrays\n",
    "\n"
   ]
  },
  {
   "cell_type": "code",
   "execution_count": 2,
   "id": "bc5f3e48",
   "metadata": {},
   "outputs": [
    {
     "data": {
      "text/plain": [
       "[[1, 2, 3], [4, 5, 6], [7, 8, 9]]"
      ]
     },
     "execution_count": 2,
     "metadata": {},
     "output_type": "execute_result"
    }
   ],
   "source": [
    "my_matrix=[[1,2,3],[4,5,6],[7,8,9]]\n",
    "# 3 columns and 3 rows \n",
    "my_matrix"
   ]
  },
  {
   "cell_type": "markdown",
   "id": "655eafa6",
   "metadata": {},
   "source": [
    "# Exercise \n",
    "\n",
    "* Make a  3 by 4 matrix \n",
    "* Make a 6 by 6 matrix \n",
    "* Make a 2 by 6 matrix "
   ]
  },
  {
   "cell_type": "code",
   "execution_count": 30,
   "id": "5e3a4be9",
   "metadata": {},
   "outputs": [
    {
     "data": {
      "text/plain": [
       "array([[1, 2, 3],\n",
       "       [4, 5, 6],\n",
       "       [7, 8, 9]])"
      ]
     },
     "execution_count": 30,
     "metadata": {},
     "output_type": "execute_result"
    }
   ],
   "source": [
    "# result indicates that it is two dimensional matrix with 3 columns and 3 row\n",
    "np.array(my_matrix)"
   ]
  },
  {
   "cell_type": "code",
   "execution_count": 22,
   "id": "88e0cf37",
   "metadata": {},
   "outputs": [],
   "source": [
    "my_matrix=[[1,2,3,4],[5,6,6,7],[8,9,10,11]]\n",
    "# 4 columns and 3 rows "
   ]
  },
  {
   "cell_type": "code",
   "execution_count": 21,
   "id": "113284dd",
   "metadata": {},
   "outputs": [
    {
     "data": {
      "text/plain": [
       "[[1, 2, 3, 4], [5, 6, 6, 7], [8, 9, 10, 11]]"
      ]
     },
     "execution_count": 21,
     "metadata": {},
     "output_type": "execute_result"
    }
   ],
   "source": [
    "my_matrix"
   ]
  },
  {
   "cell_type": "code",
   "execution_count": 6,
   "id": "a4abc67a",
   "metadata": {},
   "outputs": [
    {
     "data": {
      "text/plain": [
       "array([[ 1,  2,  3,  4],\n",
       "       [ 5,  6,  6,  7],\n",
       "       [ 8,  9, 10, 11]])"
      ]
     },
     "execution_count": 6,
     "metadata": {},
     "output_type": "execute_result"
    }
   ],
   "source": [
    "# result indicates that it is two dimensional matrix with 4 columns and 3 row\n",
    "np.array(my_matrix)"
   ]
  },
  {
   "cell_type": "code",
   "execution_count": 7,
   "id": "c3ba324b",
   "metadata": {},
   "outputs": [],
   "source": [
    "my_matrix=[[1,2],[5,6],[8,9,], [3,4]]\n",
    "# 2 columns and 4 rows "
   ]
  },
  {
   "cell_type": "code",
   "execution_count": 8,
   "id": "3cebf401",
   "metadata": {},
   "outputs": [
    {
     "data": {
      "text/plain": [
       "array([[1, 2],\n",
       "       [5, 6],\n",
       "       [8, 9],\n",
       "       [3, 4]])"
      ]
     },
     "execution_count": 8,
     "metadata": {},
     "output_type": "execute_result"
    }
   ],
   "source": [
    "# result indicates that it is two dimensional matrix with 3 columns and 1 row\n",
    "np.array(my_matrix)"
   ]
  },
  {
   "cell_type": "code",
   "execution_count": 26,
   "id": "a794c264",
   "metadata": {},
   "outputs": [
    {
     "data": {
      "text/plain": [
       "[0, 1, 2, 3, 4, 5, 6, 7, 8, 9, 10]"
      ]
     },
     "execution_count": 26,
     "metadata": {},
     "output_type": "execute_result"
    }
   ],
   "source": [
    "list(range(0,11))\n"
   ]
  },
  {
   "cell_type": "code",
   "execution_count": 24,
   "id": "68f07177",
   "metadata": {},
   "outputs": [
    {
     "data": {
      "text/plain": [
       "array([ 0,  1,  2,  3,  4,  5,  6,  7,  8,  9, 10])"
      ]
     },
     "execution_count": 24,
     "metadata": {},
     "output_type": "execute_result"
    }
   ],
   "source": [
    "np.arange(0,11)\n"
   ]
  },
  {
   "cell_type": "code",
   "execution_count": 27,
   "id": "28529b83",
   "metadata": {},
   "outputs": [
    {
     "data": {
      "text/plain": [
       "array([ 1,  6, 11, 16, 21, 26, 31])"
      ]
     },
     "execution_count": 27,
     "metadata": {},
     "output_type": "execute_result"
    }
   ],
   "source": [
    "np.arange(1,33,5)\n",
    "# 1, 21 is the array \n",
    "# 3 is the interval \n"
   ]
  },
  {
   "cell_type": "code",
   "execution_count": null,
   "id": "50439f58",
   "metadata": {},
   "outputs": [],
   "source": []
  },
  {
   "cell_type": "markdown",
   "id": "880c3e26",
   "metadata": {},
   "source": [
    "* Way 5- Creating Arrays through Linear space\n",
    "\n",
    "Linear Space will will create numbers between the given range. Distance between the numbers would be equal. In the example below will create 4 numbers betweeen 0 and 15 with equal distance"
   ]
  },
  {
   "cell_type": "code",
   "execution_count": 29,
   "id": "2643f70d",
   "metadata": {},
   "outputs": [
    {
     "data": {
      "text/plain": [
       "array([0. , 1.4, 2.8, 4.2, 5.6, 7. ])"
      ]
     },
     "execution_count": 29,
     "metadata": {},
     "output_type": "execute_result"
    }
   ],
   "source": [
    "np.linspace(0,7,6)  # create 6 numbers "
   ]
  },
  {
   "cell_type": "code",
   "execution_count": 30,
   "id": "91f11e8f",
   "metadata": {},
   "outputs": [
    {
     "data": {
      "text/plain": [
       "array([ 0,  4,  8, 12])"
      ]
     },
     "execution_count": 30,
     "metadata": {},
     "output_type": "execute_result"
    }
   ],
   "source": [
    "np.arange(0,15,4) # intervals "
   ]
  },
  {
   "cell_type": "code",
   "execution_count": 33,
   "id": "18ab7279",
   "metadata": {},
   "outputs": [
    {
     "data": {
      "text/plain": [
       "array([ 5.        ,  5.07537688,  5.15075377,  5.22613065,  5.30150754,\n",
       "        5.37688442,  5.45226131,  5.52763819,  5.60301508,  5.67839196,\n",
       "        5.75376884,  5.82914573,  5.90452261,  5.9798995 ,  6.05527638,\n",
       "        6.13065327,  6.20603015,  6.28140704,  6.35678392,  6.4321608 ,\n",
       "        6.50753769,  6.58291457,  6.65829146,  6.73366834,  6.80904523,\n",
       "        6.88442211,  6.95979899,  7.03517588,  7.11055276,  7.18592965,\n",
       "        7.26130653,  7.33668342,  7.4120603 ,  7.48743719,  7.56281407,\n",
       "        7.63819095,  7.71356784,  7.78894472,  7.86432161,  7.93969849,\n",
       "        8.01507538,  8.09045226,  8.16582915,  8.24120603,  8.31658291,\n",
       "        8.3919598 ,  8.46733668,  8.54271357,  8.61809045,  8.69346734,\n",
       "        8.76884422,  8.84422111,  8.91959799,  8.99497487,  9.07035176,\n",
       "        9.14572864,  9.22110553,  9.29648241,  9.3718593 ,  9.44723618,\n",
       "        9.52261307,  9.59798995,  9.67336683,  9.74874372,  9.8241206 ,\n",
       "        9.89949749,  9.97487437, 10.05025126, 10.12562814, 10.20100503,\n",
       "       10.27638191, 10.35175879, 10.42713568, 10.50251256, 10.57788945,\n",
       "       10.65326633, 10.72864322, 10.8040201 , 10.87939698, 10.95477387,\n",
       "       11.03015075, 11.10552764, 11.18090452, 11.25628141, 11.33165829,\n",
       "       11.40703518, 11.48241206, 11.55778894, 11.63316583, 11.70854271,\n",
       "       11.7839196 , 11.85929648, 11.93467337, 12.01005025, 12.08542714,\n",
       "       12.16080402, 12.2361809 , 12.31155779, 12.38693467, 12.46231156,\n",
       "       12.53768844, 12.61306533, 12.68844221, 12.7638191 , 12.83919598,\n",
       "       12.91457286, 12.98994975, 13.06532663, 13.14070352, 13.2160804 ,\n",
       "       13.29145729, 13.36683417, 13.44221106, 13.51758794, 13.59296482,\n",
       "       13.66834171, 13.74371859, 13.81909548, 13.89447236, 13.96984925,\n",
       "       14.04522613, 14.12060302, 14.1959799 , 14.27135678, 14.34673367,\n",
       "       14.42211055, 14.49748744, 14.57286432, 14.64824121, 14.72361809,\n",
       "       14.79899497, 14.87437186, 14.94974874, 15.02512563, 15.10050251,\n",
       "       15.1758794 , 15.25125628, 15.32663317, 15.40201005, 15.47738693,\n",
       "       15.55276382, 15.6281407 , 15.70351759, 15.77889447, 15.85427136,\n",
       "       15.92964824, 16.00502513, 16.08040201, 16.15577889, 16.23115578,\n",
       "       16.30653266, 16.38190955, 16.45728643, 16.53266332, 16.6080402 ,\n",
       "       16.68341709, 16.75879397, 16.83417085, 16.90954774, 16.98492462,\n",
       "       17.06030151, 17.13567839, 17.21105528, 17.28643216, 17.36180905,\n",
       "       17.43718593, 17.51256281, 17.5879397 , 17.66331658, 17.73869347,\n",
       "       17.81407035, 17.88944724, 17.96482412, 18.04020101, 18.11557789,\n",
       "       18.19095477, 18.26633166, 18.34170854, 18.41708543, 18.49246231,\n",
       "       18.5678392 , 18.64321608, 18.71859296, 18.79396985, 18.86934673,\n",
       "       18.94472362, 19.0201005 , 19.09547739, 19.17085427, 19.24623116,\n",
       "       19.32160804, 19.39698492, 19.47236181, 19.54773869, 19.62311558,\n",
       "       19.69849246, 19.77386935, 19.84924623, 19.92462312, 20.        ])"
      ]
     },
     "execution_count": 33,
     "metadata": {},
     "output_type": "execute_result"
    }
   ],
   "source": [
    "#generate 40 numbers between 0 to 15\n",
    "np.linspace(5,20,200)"
   ]
  },
  {
   "cell_type": "markdown",
   "id": "f5dea021",
   "metadata": {},
   "source": [
    "## Exercise \n",
    "\n",
    "* Generate 50 numbers between 0 to 20 \n"
   ]
  },
  {
   "cell_type": "code",
   "execution_count": 20,
   "id": "1e78cad3",
   "metadata": {},
   "outputs": [
    {
     "data": {
      "text/plain": [
       "array([ 0.        ,  0.20408163,  0.40816327,  0.6122449 ,  0.81632653,\n",
       "        1.02040816,  1.2244898 ,  1.42857143,  1.63265306,  1.83673469,\n",
       "        2.04081633,  2.24489796,  2.44897959,  2.65306122,  2.85714286,\n",
       "        3.06122449,  3.26530612,  3.46938776,  3.67346939,  3.87755102,\n",
       "        4.08163265,  4.28571429,  4.48979592,  4.69387755,  4.89795918,\n",
       "        5.10204082,  5.30612245,  5.51020408,  5.71428571,  5.91836735,\n",
       "        6.12244898,  6.32653061,  6.53061224,  6.73469388,  6.93877551,\n",
       "        7.14285714,  7.34693878,  7.55102041,  7.75510204,  7.95918367,\n",
       "        8.16326531,  8.36734694,  8.57142857,  8.7755102 ,  8.97959184,\n",
       "        9.18367347,  9.3877551 ,  9.59183673,  9.79591837, 10.        ])"
      ]
     },
     "execution_count": 20,
     "metadata": {},
     "output_type": "execute_result"
    }
   ],
   "source": [
    "\"\"\"if you don't specify the total number of items generated, \n",
    "it will automatically generates 50 numbers\"\"\"\n",
    "np.linspace(0,10)"
   ]
  },
  {
   "cell_type": "code",
   "execution_count": 35,
   "id": "86a4dece",
   "metadata": {},
   "outputs": [],
   "source": [
    "import numpy as np\n",
    "\n",
    "# create a 2D array with shape (3,4) filled with zeros\n",
    "arr1 = np.zeros((3,4))\n",
    "\n",
    "# create a 2D array with shape (3,4) filled with ones\n",
    "arr2 = np.ones((3,4))\n",
    "\n",
    "# create a 1D array with values [1,2,3,4,5]\n",
    "arr3 = np.array([1,2,3,4,5])\n",
    "\n",
    "# create a 1D array with values ranging from 0 to 9\n",
    "arr4 = np.arange(10)\n",
    "\n",
    "# create a 1D array with values ranging from 0 to 10 with step size 2\n",
    "arr5 = np.arange(0, 11, 2)\n",
    "\n",
    "# create a 2D array with shape (3,3) filled with random values between 0 and 1\n",
    "arr6 = np.random.rand(3,3)\n",
    "\n",
    "# create a 2D array with shape (3,3) filled with random integers between 0 and 9\n",
    "arr7 = np.random.randint(0, 10, (3,3))\n",
    "\n",
    "# add arr1 and arr2 element-wise\n",
    "arr8 = arr1 + arr2\n",
    "\n",
    "# multiply arr3 and arr4 element-wise\n",
    "#arr9 = arr3 * arr4\n",
    "\n",
    "# find the minimum value in arr6\n",
    "arr10 = np.min(arr6)\n"
   ]
  },
  {
   "cell_type": "code",
   "execution_count": 36,
   "id": "524f67b5",
   "metadata": {},
   "outputs": [
    {
     "data": {
      "text/plain": [
       "array([[1., 1., 1., 1.],\n",
       "       [1., 1., 1., 1.],\n",
       "       [1., 1., 1., 1.]])"
      ]
     },
     "execution_count": 36,
     "metadata": {},
     "output_type": "execute_result"
    }
   ],
   "source": []
  }
 ],
 "metadata": {
  "kernelspec": {
   "display_name": "Python 3 (ipykernel)",
   "language": "python",
   "name": "python3"
  },
  "language_info": {
   "codemirror_mode": {
    "name": "ipython",
    "version": 3
   },
   "file_extension": ".py",
   "mimetype": "text/x-python",
   "name": "python",
   "nbconvert_exporter": "python",
   "pygments_lexer": "ipython3",
   "version": "3.9.13"
  }
 },
 "nbformat": 4,
 "nbformat_minor": 5
}
