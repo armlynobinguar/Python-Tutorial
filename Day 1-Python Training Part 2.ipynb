{
 "cells": [
  {
   "cell_type": "markdown",
   "id": "7ac8f0f3",
   "metadata": {},
   "source": [
    "## Python Type Conversion and Type Casting\n"
   ]
  },
  {
   "cell_type": "markdown",
   "id": "b2d3542c",
   "metadata": {},
   "source": [
    "## Exercise \n",
    "\n",
    "* What are the things you learned so far on Day 1 of Python Training? \n",
    "* What are your expectations for today's python training? \n",
    "* Is there anything that you are confused about in our Day 1 Python training covered topics? \n",
    "\n",
    "Paste your results on our MsTeams chat "
   ]
  },
  {
   "cell_type": "markdown",
   "id": "2008f56d",
   "metadata": {},
   "source": [
    "## Welcome to our Day 1! "
   ]
  },
  {
   "cell_type": "markdown",
   "id": "671812b5",
   "metadata": {},
   "source": [
    "## Schedule\n",
    "\n",
    "* 8:30 - 9:00 = Recap \n",
    "* 9:00 - 11:00 = Discussion \n",
    "* 11:00 - 12:00 noon = Udemy Course \n",
    "* 12:00 - 1:30  = Break \n",
    "* 1:30 - 3:00 = Continuation of the Discussion \n",
    "* 3:00 - 4:00 = Udemy Course \n",
    "* 4:00 - 4:30 = Recap \n",
    "* 4:45 - 5:00 = Question & Answer Portion \n",
    "\n",
    "\n"
   ]
  },
  {
   "cell_type": "markdown",
   "id": "cac718ed",
   "metadata": {},
   "source": [
    "### Implicit type conversion "
   ]
  },
  {
   "cell_type": "code",
   "execution_count": 1,
   "id": "46388e37",
   "metadata": {
    "scrolled": true
   },
   "outputs": [
    {
     "name": "stdout",
     "output_type": "stream",
     "text": [
      "datatype of num_int: <class 'int'>\n",
      "datatype of num_flo: <class 'float'>\n",
      "Value of num_new: 124.23\n",
      "datatype of num_new: <class 'float'>\n"
     ]
    }
   ],
   "source": [
    "# Example 1: Converting integer to float\n",
    "\n",
    "num_int = 123\n",
    "num_flo = 1.23 #decimals  \n",
    "\n",
    "num_new = num_int + num_flo #addition \n",
    "\n",
    "print(\"datatype of num_int:\",type(num_int))\n",
    "print(\"datatype of num_flo:\",type(num_flo))\n",
    "\n",
    "print(\"Value of num_new:\",num_new)\n",
    "print(\"datatype of num_new:\",type(num_new))"
   ]
  },
  {
   "cell_type": "code",
   "execution_count": 2,
   "id": "84d63617",
   "metadata": {},
   "outputs": [
    {
     "data": {
      "text/plain": [
       "123"
      ]
     },
     "execution_count": 2,
     "metadata": {},
     "output_type": "execute_result"
    }
   ],
   "source": [
    "num_int #integer which we will be converting with "
   ]
  },
  {
   "cell_type": "code",
   "execution_count": 3,
   "id": "50868edd",
   "metadata": {},
   "outputs": [
    {
     "data": {
      "text/plain": [
       "1.23"
      ]
     },
     "execution_count": 3,
     "metadata": {},
     "output_type": "execute_result"
    }
   ],
   "source": [
    "num_flo #the float "
   ]
  },
  {
   "cell_type": "markdown",
   "id": "ebe2d8fe",
   "metadata": {},
   "source": [
    "## Exercise 1 \n",
    "\n",
    "Modify the existing code for integer-to-float conversion, but this time include at least three integers and three floats. It's up to you if you want to get their difference, addition, or mixed subtraction and addition, but the goal is to have an output of a float. \n",
    "\n",
    "Paste your results to our MSTeams chat "
   ]
  },
  {
   "cell_type": "code",
   "execution_count": 8,
   "id": "5558f4b9",
   "metadata": {},
   "outputs": [
    {
     "name": "stdout",
     "output_type": "stream",
     "text": [
      "Data type of num_int: <class 'int'>\n",
      "Data type of num_str: <class 'str'>\n"
     ]
    },
    {
     "ename": "TypeError",
     "evalue": "unsupported operand type(s) for +: 'int' and 'str'",
     "output_type": "error",
     "traceback": [
      "\u001b[1;31m---------------------------------------------------------------------------\u001b[0m",
      "\u001b[1;31mTypeError\u001b[0m                                 Traceback (most recent call last)",
      "Input \u001b[1;32mIn [8]\u001b[0m, in \u001b[0;36m<cell line: 9>\u001b[1;34m()\u001b[0m\n\u001b[0;32m      6\u001b[0m \u001b[38;5;28mprint\u001b[39m(\u001b[38;5;124m\"\u001b[39m\u001b[38;5;124mData type of num_int:\u001b[39m\u001b[38;5;124m\"\u001b[39m,\u001b[38;5;28mtype\u001b[39m(num_int))\n\u001b[0;32m      7\u001b[0m \u001b[38;5;28mprint\u001b[39m(\u001b[38;5;124m\"\u001b[39m\u001b[38;5;124mData type of num_str:\u001b[39m\u001b[38;5;124m\"\u001b[39m,\u001b[38;5;28mtype\u001b[39m(num_str))\n\u001b[1;32m----> 9\u001b[0m \u001b[38;5;28mprint\u001b[39m(\u001b[43mnum_int\u001b[49m\u001b[38;5;241;43m+\u001b[39;49m\u001b[43mnum_str\u001b[49m)\n",
      "\u001b[1;31mTypeError\u001b[0m: unsupported operand type(s) for +: 'int' and 'str'"
     ]
    }
   ],
   "source": [
    "# Example 2: Addition of string(higher) data type and integer(lower) datatype\n",
    "\n",
    "num_int = 123 #lower \n",
    "num_str = \"456\" #upper\n",
    "\n",
    "print(\"Data type of num_int:\",type(num_int))\n",
    "print(\"Data type of num_str:\",type(num_str))\n",
    "\n",
    "# we don't have code for the conversion of string-integer \n",
    "\n",
    "print(num_int+num_str)  # ERROR! cannot add two dif"
   ]
  },
  {
   "cell_type": "markdown",
   "id": "0817c5f5",
   "metadata": {},
   "source": [
    "## Explicit Type Conversion "
   ]
  },
  {
   "cell_type": "code",
   "execution_count": 9,
   "id": "e1a6d374",
   "metadata": {},
   "outputs": [
    {
     "name": "stdout",
     "output_type": "stream",
     "text": [
      "num_int 10\n",
      "num_float: 10.0\n"
     ]
    }
   ],
   "source": [
    "# int to float\n",
    "num_int = 10\n",
    "print('num_int',num_int)         # 10\n",
    "num_float = float(num_int)\n",
    "print('num_float:', num_float)   # 10.0"
   ]
  },
  {
   "cell_type": "code",
   "execution_count": 4,
   "id": "13351c74",
   "metadata": {},
   "outputs": [
    {
     "name": "stdout",
     "output_type": "stream",
     "text": [
      "9\n"
     ]
    }
   ],
   "source": [
    "# float to int\n",
    "gravity = 9.81 #float\n",
    "print(int(gravity))  "
   ]
  },
  {
   "cell_type": "code",
   "execution_count": 3,
   "id": "6fcaa13f",
   "metadata": {},
   "outputs": [
    {
     "name": "stdout",
     "output_type": "stream",
     "text": [
      "3\n"
     ]
    }
   ],
   "source": [
    "# float to int \n",
    "pi_circle = 3.14 \n",
    "print(int(pi_circle))"
   ]
  },
  {
   "cell_type": "markdown",
   "id": "9a61a112",
   "metadata": {},
   "source": [
    "## Exercise 2 \n",
    "\n",
    "Convert the Euler value of 2.72 (float) into an integer value \n"
   ]
  },
  {
   "cell_type": "markdown",
   "id": "00e7c9b6",
   "metadata": {},
   "source": [
    "## Exercise 3 \n",
    "\n",
    "Convert the diameter of the circle that has a value of 24 (int) into a float value "
   ]
  },
  {
   "cell_type": "code",
   "execution_count": 6,
   "id": "dbc25319",
   "metadata": {},
   "outputs": [
    {
     "name": "stdout",
     "output_type": "stream",
     "text": [
      "Data type of num_int: <class 'int'>\n",
      "Data type of num_str before Type Casting: <class 'str'>\n",
      "Data type of num_str after Type Casting: <class 'int'>\n",
      "Sum of num_int and num_str: 579\n",
      "Data type of the sum: <class 'int'>\n"
     ]
    }
   ],
   "source": [
    "# Example 3: Addition of string and integer using explicit conversion\n",
    "\n",
    "num_int = 123\n",
    "num_str = \"456\"       # there is a number inside \" \" so I CAN change it to integer\n",
    "#num_str = \"jason\"    # there is a name inside \" \" so I cannot change to integer\n",
    "\n",
    "print(\"Data type of num_int:\",type(num_int))\n",
    "print(\"Data type of num_str before Type Casting:\",type(num_str)) #string \n",
    "\n",
    "num_str = int(num_str) # change from \"string\" data type to integer datatype\n",
    "print(\"Data type of num_str after Type Casting:\",type(num_str)) #integer\n",
    "\n",
    "num_sum = num_int + num_str  # Now we can add two same data types (int and int)\n",
    "\n",
    "print(\"Sum of num_int and num_str:\",num_sum)\n",
    "print(\"Data type of the sum:\",type(num_sum))"
   ]
  },
  {
   "cell_type": "markdown",
   "id": "40da323b",
   "metadata": {},
   "source": [
    "## Exercise 4\n",
    "\n",
    "Modify the existing code for Addition of string and integer using explicit conversion, but this time include at least two strings and two integers. It's up to you if how you will do the code for that but the goal is to have a sum of it.  \n",
    "\n",
    "Paste your results to our MSTeams chat\n"
   ]
  },
  {
   "cell_type": "markdown",
   "id": "ed223faf",
   "metadata": {},
   "source": [
    "## Exercise 5 \n",
    "\n",
    "Modify the existing code for subtraction and addition of string and integer using explicit conversion, but this time include at least three strings and three integers. It's up to you if how you will do the code for that but the goal is to get the value of it.\n",
    "\n",
    "Paste your results to our MSTeams chat\n"
   ]
  },
  {
   "cell_type": "code",
   "execution_count": 7,
   "id": "e166f85e",
   "metadata": {},
   "outputs": [
    {
     "data": {
      "text/plain": [
       "9.0"
      ]
     },
     "execution_count": 7,
     "metadata": {},
     "output_type": "execute_result"
    }
   ],
   "source": [
    "float(9)  # means converting integer 6 to a float value\n"
   ]
  },
  {
   "cell_type": "code",
   "execution_count": 14,
   "id": "85822bd4",
   "metadata": {},
   "outputs": [
    {
     "data": {
      "text/plain": [
       "33"
      ]
     },
     "execution_count": 14,
     "metadata": {},
     "output_type": "execute_result"
    }
   ],
   "source": [
    "int(33.6)  # means converting float 33.6 to a integer value\n",
    "\n",
    "# When you change from FLOAT to INTEGER it will round-u"
   ]
  },
  {
   "cell_type": "code",
   "execution_count": 15,
   "id": "5bcfa679",
   "metadata": {},
   "outputs": [
    {
     "data": {
      "text/plain": [
       "-33"
      ]
     },
     "execution_count": 15,
     "metadata": {},
     "output_type": "execute_result"
    }
   ],
   "source": [
    "int(-33.6)\n"
   ]
  },
  {
   "cell_type": "code",
   "execution_count": 2,
   "id": "4864101f",
   "metadata": {},
   "outputs": [
    {
     "name": "stdout",
     "output_type": "stream",
     "text": [
      "20\n",
      "20\n"
     ]
    },
    {
     "data": {
      "text/plain": [
       "'20'"
      ]
     },
     "execution_count": 2,
     "metadata": {},
     "output_type": "execute_result"
    }
   ],
   "source": [
    "# int to str\n",
    "num_int = 20\n",
    "print(num_int)                  # 10\n",
    "num_str = str(num_int)\n",
    "print(num_str)  # '10'\n",
    "num_str"
   ]
  },
  {
   "cell_type": "code",
   "execution_count": 17,
   "id": "ffbb0bc3",
   "metadata": {},
   "outputs": [
    {
     "data": {
      "text/plain": [
       "7.5"
      ]
     },
     "execution_count": 17,
     "metadata": {},
     "output_type": "execute_result"
    }
   ],
   "source": [
    "float('7.5')  # means converting string '7.5' to a float value\n",
    "#int, float and then string "
   ]
  },
  {
   "cell_type": "code",
   "execution_count": 18,
   "id": "31d8372c",
   "metadata": {},
   "outputs": [
    {
     "name": "stdout",
     "output_type": "stream",
     "text": [
      "num_float 10.6\n"
     ]
    }
   ],
   "source": [
    "# str to int or float\n",
    "num_str = '10.6' #or '10'\n",
    "# print('num_int', int(num_str))      # 10\n",
    "print('num_float', float(num_str))  # 10.6"
   ]
  },
  {
   "cell_type": "code",
   "execution_count": 19,
   "id": "d25206f3",
   "metadata": {},
   "outputs": [
    {
     "data": {
      "text/plain": [
       "'65'"
      ]
     },
     "execution_count": 19,
     "metadata": {},
     "output_type": "execute_result"
    }
   ],
   "source": [
    "str(65)  # means converting integer 65 to a string value\n"
   ]
  },
  {
   "cell_type": "markdown",
   "id": "f73b0238",
   "metadata": {},
   "source": [
    "### We can even convert one sequence to another.\n",
    "\n"
   ]
  },
  {
   "cell_type": "code",
   "execution_count": 22,
   "id": "fa62970a",
   "metadata": {},
   "outputs": [
    {
     "data": {
      "text/plain": [
       "{1, 2, 3}"
      ]
     },
     "execution_count": 22,
     "metadata": {},
     "output_type": "execute_result"
    }
   ],
   "source": [
    "set([1,2,3])  # [1,2,3] is list and now converting to a set {}\n"
   ]
  },
  {
   "cell_type": "code",
   "execution_count": 25,
   "id": "1276fdef",
   "metadata": {},
   "outputs": [
    {
     "data": {
      "text/plain": [
       "(5, 6, 7)"
      ]
     },
     "execution_count": 25,
     "metadata": {},
     "output_type": "execute_result"
    }
   ],
   "source": [
    "tuple({5,6,7})  # {1,2,3} is set and now converting to a tuple ()\n"
   ]
  },
  {
   "cell_type": "code",
   "execution_count": 27,
   "id": "88ba1b49",
   "metadata": {},
   "outputs": [
    {
     "data": {
      "text/plain": [
       "['A',\n",
       " 'c',\n",
       " 'c',\n",
       " 'e',\n",
       " 'n',\n",
       " 't',\n",
       " 'u',\n",
       " 'r',\n",
       " 'e',\n",
       " ' ',\n",
       " 'T',\n",
       " 'e',\n",
       " 'c',\n",
       " 'h',\n",
       " 'n',\n",
       " 'o',\n",
       " 'l',\n",
       " 'o',\n",
       " 'g',\n",
       " 'y']"
      ]
     },
     "execution_count": 27,
     "metadata": {},
     "output_type": "execute_result"
    }
   ],
   "source": [
    "list('Accenture Technology')  # (\"Accenture Technology\") is string and now converting to a list []\n"
   ]
  },
  {
   "cell_type": "code",
   "execution_count": 28,
   "id": "ca9ddeb6",
   "metadata": {},
   "outputs": [
    {
     "name": "stdout",
     "output_type": "stream",
     "text": [
      "Armielyn Obinguar\n",
      "['A', 'r', 'm', 'i', 'e', 'l', 'y', 'n', ' ', 'O', 'b', 'i', 'n', 'g', 'u', 'a', 'r']\n"
     ]
    }
   ],
   "source": [
    "# str to list\n",
    "first_name_and_last_name = 'Armielyn Obinguar'\n",
    "print(first_name_and_last_name)               # 'Milaan'\n",
    "first_name_and_last_name_to_list = list(first_name_and_last_name)\n",
    "print(first_name_and_last_name_to_list) "
   ]
  },
  {
   "cell_type": "markdown",
   "id": "5276928d",
   "metadata": {},
   "source": [
    "## Exercise 6 \n",
    "\n",
    "Convert your personal information, such as your name, location, and role at Accenture, into a string to list. It's up to you how you construct your codes, but the goal is to be able to get the converted string to list.  "
   ]
  },
  {
   "cell_type": "markdown",
   "id": "bd93b692",
   "metadata": {},
   "source": [
    "## Key things to Remember "
   ]
  },
  {
   "cell_type": "markdown",
   "id": "8dc38146",
   "metadata": {},
   "source": [
    "1. Type Conversion is the conversion of object from one data type to another data type.\n",
    "2. Implicit Type Conversion is automatically performed by the Python interpreter.\n",
    "3. Python avoids the loss of data in Implicit Type Conversion.\n",
    "4. Explicit Type Conversion is also called Type Casting, the data types of objects are converted using predefined functions by the user.\n",
    "5. In Type Casting, loss of data may occur as we enforce the object to a specific data type."
   ]
  },
  {
   "cell_type": "markdown",
   "id": "429338ab",
   "metadata": {},
   "source": [
    "## Comparison Operators "
   ]
  },
  {
   "cell_type": "code",
   "execution_count": 9,
   "id": "b3baa57c",
   "metadata": {},
   "outputs": [
    {
     "data": {
      "text/plain": [
       "True"
      ]
     },
     "execution_count": 9,
     "metadata": {},
     "output_type": "execute_result"
    }
   ],
   "source": [
    "1<2\n"
   ]
  },
  {
   "cell_type": "code",
   "execution_count": 11,
   "id": "a8939a66",
   "metadata": {},
   "outputs": [
    {
     "data": {
      "text/plain": [
       "True"
      ]
     },
     "execution_count": 11,
     "metadata": {},
     "output_type": "execute_result"
    }
   ],
   "source": [
    "1==1  # == means equal \n"
   ]
  },
  {
   "cell_type": "code",
   "execution_count": 4,
   "id": "8dd1f616",
   "metadata": {},
   "outputs": [
    {
     "data": {
      "text/plain": [
       "True"
      ]
     },
     "execution_count": 4,
     "metadata": {},
     "output_type": "execute_result"
    }
   ],
   "source": [
    "1!=2 #they are not the same value \n"
   ]
  },
  {
   "cell_type": "code",
   "execution_count": 12,
   "id": "7a79903b",
   "metadata": {},
   "outputs": [
    {
     "data": {
      "text/plain": [
       "True"
      ]
     },
     "execution_count": 12,
     "metadata": {},
     "output_type": "execute_result"
    }
   ],
   "source": [
    "'string'=='string'\n"
   ]
  },
  {
   "cell_type": "code",
   "execution_count": 42,
   "id": "a0d94e84",
   "metadata": {},
   "outputs": [
    {
     "data": {
      "text/plain": [
       "False"
      ]
     },
     "execution_count": 42,
     "metadata": {},
     "output_type": "execute_result"
    }
   ],
   "source": [
    "'bell'=='boy'\n"
   ]
  },
  {
   "cell_type": "code",
   "execution_count": 6,
   "id": "16605948",
   "metadata": {},
   "outputs": [
    {
     "data": {
      "text/plain": [
       "False"
      ]
     },
     "execution_count": 6,
     "metadata": {},
     "output_type": "execute_result"
    }
   ],
   "source": [
    "(1==2)and(2==2)   # should have the same values \n"
   ]
  },
  {
   "cell_type": "code",
   "execution_count": 62,
   "id": "8aa1e9d4",
   "metadata": {},
   "outputs": [
    {
     "data": {
      "text/plain": [
       "True"
      ]
     },
     "execution_count": 62,
     "metadata": {},
     "output_type": "execute_result"
    }
   ],
   "source": [
    "(1==2) or (2==2) #choices\n"
   ]
  },
  {
   "cell_type": "code",
   "execution_count": 45,
   "id": "ce0e1dcf",
   "metadata": {},
   "outputs": [
    {
     "data": {
      "text/plain": [
       "True"
      ]
     },
     "execution_count": 45,
     "metadata": {},
     "output_type": "execute_result"
    }
   ],
   "source": [
    "(1==1) and not (1==2)   \n"
   ]
  },
  {
   "cell_type": "markdown",
   "id": "3d10f016",
   "metadata": {},
   "source": [
    "## Control Flow of Python\n",
    "\n",
    "If Statement"
   ]
  },
  {
   "cell_type": "code",
   "execution_count": 46,
   "id": "abbebdaf",
   "metadata": {},
   "outputs": [
    {
     "name": "stdout",
     "output_type": "stream",
     "text": [
      "yes\n"
     ]
    }
   ],
   "source": [
    "if True:\n",
    "    print('yes')  #indentation is very important! "
   ]
  },
  {
   "cell_type": "code",
   "execution_count": 15,
   "id": "9bf6c43b",
   "metadata": {},
   "outputs": [],
   "source": [
    "if False:\n",
    "    print('no')   #indentation is very important! "
   ]
  },
  {
   "cell_type": "code",
   "execution_count": 9,
   "id": "e4fc6953",
   "metadata": {},
   "outputs": [
    {
     "name": "stdout",
     "output_type": "stream",
     "text": [
      "hi\n"
     ]
    }
   ],
   "source": [
    "if (1==2): # they are not equal \n",
    "    print('true')\n",
    "elif (2!=2): # they are not the same value \n",
    "    print ('yes')\n",
    "else:\n",
    "    print('hi')"
   ]
  },
  {
   "cell_type": "code",
   "execution_count": 56,
   "id": "5a56ec90",
   "metadata": {},
   "outputs": [
    {
     "name": "stdout",
     "output_type": "stream",
     "text": [
      "yes\n"
     ]
    }
   ],
   "source": [
    "if (1==3): #they are not equal \n",
    "    print('true')\n",
    "elif (2!=3): # true \n",
    "    print('yes')"
   ]
  },
  {
   "cell_type": "code",
   "execution_count": 19,
   "id": "ea87b8fe",
   "metadata": {},
   "outputs": [
    {
     "name": "stdout",
     "output_type": "stream",
     "text": [
      "day 2 training\n"
     ]
    }
   ],
   "source": [
    "if (4==3):\n",
    "    print('true')\n",
    "elif (6==3):\n",
    "    print('yes')\n",
    "else:\n",
    "    print('day 2 training')"
   ]
  },
  {
   "cell_type": "code",
   "execution_count": 10,
   "id": "7978d87d",
   "metadata": {},
   "outputs": [
    {
     "data": {
      "text/plain": [
       "True"
      ]
     },
     "execution_count": 10,
     "metadata": {},
     "output_type": "execute_result"
    }
   ],
   "source": [
    "6==6 "
   ]
  },
  {
   "cell_type": "code",
   "execution_count": 13,
   "id": "737cbd9b",
   "metadata": {},
   "outputs": [
    {
     "data": {
      "text/plain": [
       "False"
      ]
     },
     "execution_count": 13,
     "metadata": {},
     "output_type": "execute_result"
    }
   ],
   "source": [
    "6!=6"
   ]
  },
  {
   "cell_type": "markdown",
   "id": "bee7988e",
   "metadata": {},
   "source": [
    "## Exercise 8 "
   ]
  },
  {
   "cell_type": "markdown",
   "id": "febe6f9d",
   "metadata": {},
   "source": [
    "Use the comparison operators to construct an if statement. It's up to you if you like to put elif, else. \n",
    "\n",
    "Paste your results on MSteams chat "
   ]
  },
  {
   "cell_type": "markdown",
   "id": "7998bc20",
   "metadata": {},
   "source": [
    "### for loops "
   ]
  },
  {
   "cell_type": "code",
   "execution_count": 63,
   "id": "40bc34a7",
   "metadata": {},
   "outputs": [],
   "source": [
    "seq=[10,202,30,40,50]\n"
   ]
  },
  {
   "cell_type": "code",
   "execution_count": 64,
   "id": "695ecdc8",
   "metadata": {
    "scrolled": true
   },
   "outputs": [
    {
     "name": "stdout",
     "output_type": "stream",
     "text": [
      "hi\n",
      "hi\n",
      "hi\n",
      "hi\n",
      "hi\n"
     ]
    }
   ],
   "source": [
    "for item in seq:\n",
    "    print('hi')"
   ]
  },
  {
   "cell_type": "code",
   "execution_count": 65,
   "id": "b2b80650",
   "metadata": {
    "scrolled": true
   },
   "outputs": [
    {
     "name": "stdout",
     "output_type": "stream",
     "text": [
      "10\n",
      "202\n",
      "30\n",
      "40\n",
      "50\n"
     ]
    }
   ],
   "source": [
    "for num in seq:\n",
    "    print(num)"
   ]
  },
  {
   "cell_type": "code",
   "execution_count": 66,
   "id": "be63a5d3",
   "metadata": {},
   "outputs": [
    {
     "name": "stdout",
     "output_type": "stream",
     "text": [
      "100\n",
      "40804\n",
      "900\n",
      "1600\n",
      "2500\n"
     ]
    }
   ],
   "source": [
    "for num in seq:\n",
    "    print(num**2)   # ** is an exponent "
   ]
  },
  {
   "cell_type": "code",
   "execution_count": 67,
   "id": "62fc1938",
   "metadata": {},
   "outputs": [
    {
     "name": "stdout",
     "output_type": "stream",
     "text": [
      "10000\n",
      "1664966416\n",
      "810000\n",
      "2560000\n",
      "6250000\n"
     ]
    }
   ],
   "source": [
    "for num in seq:\n",
    "    print(num**4)"
   ]
  },
  {
   "cell_type": "markdown",
   "id": "a4a13dda",
   "metadata": {},
   "source": [
    "### Exercise \n",
    "\n",
    "Think of a sequence that consists of 8 numbers and convert these numbers into any word you think of, then convert them again into numbers that can be multiplied 6 times by itself. \n",
    "\n",
    "Paste your answers on our Msteams chat"
   ]
  },
  {
   "cell_type": "markdown",
   "id": "0721339b",
   "metadata": {},
   "source": [
    "## While loops\n",
    "\n"
   ]
  },
  {
   "cell_type": "code",
   "execution_count": 73,
   "id": "edcbab18",
   "metadata": {
    "scrolled": true
   },
   "outputs": [
    {
     "name": "stdout",
     "output_type": "stream",
     "text": [
      "i is currently 1\n",
      "i is currently 2\n",
      "i is currently 3\n",
      "i is currently 4\n",
      "i is currently 5\n",
      "i is currently 6\n",
      "i is currently 7\n",
      "i is currently 8\n",
      "i is currently 9\n"
     ]
    }
   ],
   "source": [
    "i=1\n",
    "while i<10:\n",
    "    print('i is currently {}'.format(i))\n",
    "    i=i+1"
   ]
  },
  {
   "cell_type": "code",
   "execution_count": 20,
   "id": "e0d154d6",
   "metadata": {},
   "outputs": [
    {
     "data": {
      "text/plain": [
       "[1, 8, 27, 64]"
      ]
     },
     "execution_count": 20,
     "metadata": {},
     "output_type": "execute_result"
    }
   ],
   "source": [
    "#list  comprehension \n",
    "\n",
    "x=[1,2,3,4]\n",
    "out =[]\n",
    "for num in x:\n",
    "    out.append(num**3)\n",
    "out"
   ]
  },
  {
   "cell_type": "markdown",
   "id": "85104b92",
   "metadata": {},
   "source": [
    "## Exercise 10\n",
    "\n",
    "Construct a list comprehension where there are at least 10 numbers and make sure that the python scripts can also multiply the lists by themselves three times."
   ]
  },
  {
   "cell_type": "code",
   "execution_count": 80,
   "id": "d2855cff",
   "metadata": {},
   "outputs": [
    {
     "data": {
      "text/plain": [
       "[100, 400, 900, 1600]"
      ]
     },
     "execution_count": 80,
     "metadata": {},
     "output_type": "execute_result"
    }
   ],
   "source": [
    "x=[10,20,30,40]\n",
    "[num**2 for num in x]\n",
    "#100,400,900,1600"
   ]
  },
  {
   "cell_type": "markdown",
   "id": "d9c9f1ee",
   "metadata": {},
   "source": [
    "# Bolean Literals\n",
    "\n",
    "A Boolean literal can have any of the two values: True or False."
   ]
  },
  {
   "cell_type": "code",
   "execution_count": 15,
   "id": "f7c60163",
   "metadata": {},
   "outputs": [
    {
     "name": "stdout",
     "output_type": "stream",
     "text": [
      "x is True\n",
      "y is False\n",
      "a: 7\n",
      "b: 90\n"
     ]
    }
   ],
   "source": [
    "# Example:\n",
    "\n",
    "#REMEMBER  True == 1   False == 0\n",
    "\n",
    "x = (1 == True) # 1 == 1\n",
    "y = (1 == False) # 1 == 0 not equal \n",
    "a = True + 6   # 1 + 6\n",
    "b = False + 90    # 0 + 90\n",
    "\n",
    "print(\"x is\", x)\n",
    "print(\"y is\", y)\n",
    "print(\"a:\", a)\n",
    "print(\"b:\", b)"
   ]
  },
  {
   "cell_type": "code",
   "execution_count": 21,
   "id": "9d9f46d9",
   "metadata": {},
   "outputs": [
    {
     "name": "stdout",
     "output_type": "stream",
     "text": [
      "b is not greater than a\n"
     ]
    }
   ],
   "source": [
    "a = 200\n",
    "b = 33\n",
    "\n",
    "if b > a:\n",
    "  print(\"b is greater than a\")\n",
    "else:\n",
    "  print(\"b is not greater than a\")"
   ]
  },
  {
   "cell_type": "code",
   "execution_count": 22,
   "id": "c886b7ab",
   "metadata": {
    "scrolled": true
   },
   "outputs": [
    {
     "name": "stdout",
     "output_type": "stream",
     "text": [
      "True\n"
     ]
    }
   ],
   "source": [
    "x = 200\n",
    "print(isinstance(x, int)) # verify whether the data type is true or false "
   ]
  },
  {
   "cell_type": "markdown",
   "id": "50bb2db8",
   "metadata": {},
   "source": [
    "## Boolean strings\n",
    "Sometimes functions return a boolean value. If you define a string (text) you can call several methods on it, all which return a boolean value."
   ]
  },
  {
   "cell_type": "code",
   "execution_count": 17,
   "id": "5e7a5cd8",
   "metadata": {},
   "outputs": [],
   "source": [
    "s = \"Hello World\" \n",
    "#s.isalnum()\n",
    "# s.isalpha()\n",
    "#s.isdigit()\n",
    "#s.istitle()\n",
    "#s.isupper()\n",
    "#s.islower()\n",
    "#s.isspace()\n",
    "#s.endswith(\"d\")\n",
    "#s.startswith(\"H\")"
   ]
  },
  {
   "cell_type": "code",
   "execution_count": 18,
   "id": "52bb31ee",
   "metadata": {},
   "outputs": [
    {
     "data": {
      "text/plain": [
       "False"
      ]
     },
     "execution_count": 18,
     "metadata": {},
     "output_type": "execute_result"
    }
   ],
   "source": [
    "s.isalnum() # hello world is not a number "
   ]
  },
  {
   "cell_type": "code",
   "execution_count": 19,
   "id": "11589ff1",
   "metadata": {},
   "outputs": [
    {
     "data": {
      "text/plain": [
       "False"
      ]
     },
     "execution_count": 19,
     "metadata": {},
     "output_type": "execute_result"
    }
   ],
   "source": [
    "s.isalpha() "
   ]
  },
  {
   "cell_type": "code",
   "execution_count": 20,
   "id": "caed5825",
   "metadata": {},
   "outputs": [
    {
     "data": {
      "text/plain": [
       "False"
      ]
     },
     "execution_count": 20,
     "metadata": {},
     "output_type": "execute_result"
    }
   ],
   "source": [
    "s.isdigit()"
   ]
  },
  {
   "cell_type": "code",
   "execution_count": 21,
   "id": "7015dda0",
   "metadata": {},
   "outputs": [
    {
     "data": {
      "text/plain": [
       "True"
      ]
     },
     "execution_count": 21,
     "metadata": {},
     "output_type": "execute_result"
    }
   ],
   "source": [
    "s.istitle()"
   ]
  },
  {
   "cell_type": "code",
   "execution_count": 22,
   "id": "eb52a2e2",
   "metadata": {},
   "outputs": [
    {
     "data": {
      "text/plain": [
       "False"
      ]
     },
     "execution_count": 22,
     "metadata": {},
     "output_type": "execute_result"
    }
   ],
   "source": [
    "s.isupper()"
   ]
  },
  {
   "cell_type": "code",
   "execution_count": 23,
   "id": "15cd0ad5",
   "metadata": {},
   "outputs": [
    {
     "data": {
      "text/plain": [
       "False"
      ]
     },
     "execution_count": 23,
     "metadata": {},
     "output_type": "execute_result"
    }
   ],
   "source": [
    "s.islower()"
   ]
  },
  {
   "cell_type": "code",
   "execution_count": 25,
   "id": "5a19ffff",
   "metadata": {},
   "outputs": [
    {
     "data": {
      "text/plain": [
       "False"
      ]
     },
     "execution_count": 25,
     "metadata": {},
     "output_type": "execute_result"
    }
   ],
   "source": [
    "s.isspace()"
   ]
  },
  {
   "cell_type": "code",
   "execution_count": 26,
   "id": "ab0e38b5",
   "metadata": {},
   "outputs": [
    {
     "data": {
      "text/plain": [
       "True"
      ]
     },
     "execution_count": 26,
     "metadata": {},
     "output_type": "execute_result"
    }
   ],
   "source": [
    "s.endswith(\"d\")"
   ]
  },
  {
   "cell_type": "code",
   "execution_count": 27,
   "id": "652fad58",
   "metadata": {},
   "outputs": [
    {
     "data": {
      "text/plain": [
       "True"
      ]
     },
     "execution_count": 27,
     "metadata": {},
     "output_type": "execute_result"
    }
   ],
   "source": [
    "s.startswith(\"H\")"
   ]
  },
  {
   "cell_type": "code",
   "execution_count": 70,
   "id": "04e12311",
   "metadata": {},
   "outputs": [
    {
     "name": "stdout",
     "output_type": "stream",
     "text": [
      "True\n",
      "False\n",
      "True\n",
      "False\n",
      "True\n"
     ]
    },
    {
     "data": {
      "text/plain": [
       "True"
      ]
     },
     "execution_count": 70,
     "metadata": {},
     "output_type": "execute_result"
    }
   ],
   "source": [
    "# Is three greater than two?\n",
    "print(3 > 2)\n",
    "3 > 2 \n",
    "\n",
    "# Is the number of characters in the string \"Hello\" equal to one?\n",
    "print(len(\"Hello\") == 1)\n",
    "\n",
    "# Is 5 equal to 3 + 2?\n",
    "print(5 == 3 + 2)\n",
    "5 == 3 + 2 \n",
    "\n",
    "# Is four greater than or equal to nine?\n",
    "print(2 + 2 >= 9)\n",
    "2 + 2 >= 9 \n",
    "\n",
    "# Is seven not equal to twelve?\n",
    "print(7 != 12)\n",
    "7 != 12"
   ]
  },
  {
   "cell_type": "code",
   "execution_count": 72,
   "id": "aa775b00",
   "metadata": {},
   "outputs": [
    {
     "name": "stdout",
     "output_type": "stream",
     "text": [
      "12 is even.\n"
     ]
    }
   ],
   "source": [
    "my_number = 24 \n",
    "if my_number % 2 == 0: \n",
    "    print(my_number, \"is even.\")\n",
    "else:\n",
    "    print(my_number, \"is odd.\")\n",
    "    \n",
    "    # if and else statements "
   ]
  },
  {
   "cell_type": "code",
   "execution_count": 32,
   "id": "d799fb30",
   "metadata": {},
   "outputs": [
    {
     "name": "stdout",
     "output_type": "stream",
     "text": [
      "Stay home\n"
     ]
    }
   ],
   "source": [
    "money_available_dollars = 3\n",
    "time_avaialble_minutes = 180\n",
    "\n",
    "if money_available_dollars > 10 and time_available_minutes > 120:\n",
    "    print(\"Go out with friends\")\n",
    "else:\n",
    "    print(\"Stay home\")"
   ]
  },
  {
   "cell_type": "markdown",
   "id": "54cab90d",
   "metadata": {},
   "source": [
    "## Exercise \n",
    "\n",
    "Create your own if and else statements on whether you buy the specific product you'll see in the shop. It's up to you what product it is, but it prints out the choice of whether you will buy it or not. "
   ]
  },
  {
   "cell_type": "code",
   "execution_count": 34,
   "id": "83da1279",
   "metadata": {},
   "outputs": [
    {
     "name": "stdout",
     "output_type": "stream",
     "text": [
      "Normal operation\n"
     ]
    }
   ],
   "source": [
    "noise_level = 2\n",
    "heat_output_percent = 98\n",
    "\n",
    "if noise_level > 4 or heat_output_percent < 95:\n",
    "    print(\"Call technician\")\n",
    "else:\n",
    "    print(\"Normal operation\")"
   ]
  },
  {
   "cell_type": "code",
   "execution_count": 81,
   "id": "d8929c7b",
   "metadata": {},
   "outputs": [
    {
     "name": "stdout",
     "output_type": "stream",
     "text": [
      "False\n",
      "True\n",
      "True\n",
      "True\n",
      "True\n"
     ]
    }
   ],
   "source": [
    "s1 = \"Hello\"\n",
    "s2 = \"HELLO\"\n",
    "print(s1 == s2)\n",
    "print(s1.lower() == s2.lower()) # any guess?\n",
    "print(s1.upper() == s2.upper())\n",
    "print(s1.isalnum() == s2.isalnum())\n",
    "print(s1.isalpha() == s2.isalpha())"
   ]
  },
  {
   "cell_type": "code",
   "execution_count": 82,
   "id": "ae372294",
   "metadata": {},
   "outputs": [
    {
     "name": "stdout",
     "output_type": "stream",
     "text": [
      "1 True\n"
     ]
    }
   ],
   "source": [
    "# Boolean Example 2\n",
    "\n",
    "a = True\n",
    "b = False\n",
    "print((a+b),bool(a+b))\n",
    "# true is 1 and false is 0 "
   ]
  },
  {
   "cell_type": "markdown",
   "id": "5d941adb",
   "metadata": {},
   "source": [
    "### Why do you think the output of the Boolean example 2 is 1? \n",
    "\n",
    "Type your answer on the MSteams chat "
   ]
  },
  {
   "cell_type": "markdown",
   "id": "7c738a56",
   "metadata": {},
   "source": [
    "### Numeric Literals \n",
    "\n"
   ]
  },
  {
   "cell_type": "code",
   "execution_count": 32,
   "id": "d4d3105f",
   "metadata": {},
   "outputs": [
    {
     "name": "stdout",
     "output_type": "stream",
     "text": [
      "Value of c is  23\n",
      "Value of d is  175\n",
      "Value of e is  23.657787\n",
      "Value of f is  23.0 5.0\n",
      "Value of g is  397\n"
     ]
    }
   ],
   "source": [
    "c = 23 # Integer Literal\n",
    "d = 0o257 # Octal Literal\n",
    "e = 23.657787 # Floating Point Literal\n",
    "f = 23+5j # Complex Literal\n",
    "g = 0x18d # Hexadecimal Literal\n",
    "\n",
    "print(\"Value of c is \",c)\n",
    "print(\"Value of d is \",d)\n",
    "print(\"Value of e is \",e)\n",
    "print(\"Value of f is \",f.real,f.imag)\n",
    "print(\"Value of g is \",g)"
   ]
  },
  {
   "cell_type": "markdown",
   "id": "cd83bf2f",
   "metadata": {},
   "source": [
    "### These are the Literals that are used to define values in digits or Numbers. Some of the Numeric Literals in Python are Int, Float, Complex, Octal, Hexadecimal"
   ]
  },
  {
   "cell_type": "markdown",
   "id": "fad24e7a",
   "metadata": {},
   "source": [
    "## Special Literals \n",
    "\n",
    "Python contains one special literal i.e., None. We use it to specify to that field that is not created."
   ]
  },
  {
   "cell_type": "code",
   "execution_count": 30,
   "id": "dcec5364",
   "metadata": {},
   "outputs": [
    {
     "name": "stdout",
     "output_type": "stream",
     "text": [
      "Available\n",
      "None\n"
     ]
    }
   ],
   "source": [
    "# Example:\n",
    "\n",
    "juice = \"Available\"\n",
    "soup = None # none is a special literals \n",
    "def menu(x):\n",
    "    if x == juice:\n",
    "        print(juice)\n",
    "    else:\n",
    "        print(soup)\n",
    "menu(juice)\n",
    "menu(soup)"
   ]
  },
  {
   "cell_type": "markdown",
   "id": "4481f4d0",
   "metadata": {},
   "source": [
    "## Literal Collections\n"
   ]
  },
  {
   "cell_type": "code",
   "execution_count": 33,
   "id": "47cfee13",
   "metadata": {},
   "outputs": [],
   "source": [
    "#There are four different literal collections List literals, Tuple literals, Dict literals, and Set literals."
   ]
  },
  {
   "cell_type": "code",
   "execution_count": 34,
   "id": "1d8a235a",
   "metadata": {
    "scrolled": true
   },
   "outputs": [
    {
     "name": "stdout",
     "output_type": "stream",
     "text": [
      "('Banana', 'Apple', 'Strawberry')\n",
      "['Banana', 'Apple', 'Strawberry']\n",
      "{'Apple', 'Strawberry', 'Banana'}\n",
      "{'1': 'Banana', '2': 'Apple', '3': 'Strawberry'}\n"
     ]
    }
   ],
   "source": [
    "# Example:\n",
    "\n",
    "fruits1 = (\"Banana\", \"Apple\", \"Strawberry\")             # tuple ()\n",
    "fruits2 = [\"Banana\", \"Apple\", \"Strawberry\"]             # list []\n",
    "fruits3 = {\"Banana\", \"Apple\", \"Strawberry\"}             # set {}\n",
    "fruits4 = {\"1\":\"Banana\", \"2\":\"Apple\", \"3\":\"Strawberry\"} # dictionary {\"Key\":\"Value\"} #door \n",
    "\n",
    "print(fruits1)\n",
    "print(fruits2)\n",
    "print(fruits3)\n",
    "print(fruits4)"
   ]
  },
  {
   "cell_type": "code",
   "execution_count": 35,
   "id": "95462042",
   "metadata": {},
   "outputs": [
    {
     "name": "stdout",
     "output_type": "stream",
     "text": [
      "['apple', 'mango', 'orange']\n",
      "(1, 2, 3)\n",
      "{'a': 'apple', 'b': 'ball', 'c': 'cat'}\n",
      "{'a', 'u', 'i', 'e', 'o'}\n"
     ]
    }
   ],
   "source": [
    "# Example:\n",
    "\n",
    "fruits = [\"apple\", \"mango\", \"orange\"] #list\n",
    "numbers = (1, 2, 3) #tuple\n",
    "alphabets = {'a':'apple', 'b':'ball', 'c':'cat'} #dictionary\n",
    "vowels = {'a', 'e', 'i' , 'o', 'u'} #set\n",
    "\n",
    "print(fruits)\n",
    "print(numbers)\n",
    "print(alphabets)\n",
    "print(vowels)"
   ]
  }
 ],
 "metadata": {
  "kernelspec": {
   "display_name": "Python 3 (ipykernel)",
   "language": "python",
   "name": "python3"
  },
  "language_info": {
   "codemirror_mode": {
    "name": "ipython",
    "version": 3
   },
   "file_extension": ".py",
   "mimetype": "text/x-python",
   "name": "python",
   "nbconvert_exporter": "python",
   "pygments_lexer": "ipython3",
   "version": "3.9.13"
  }
 },
 "nbformat": 4,
 "nbformat_minor": 5
}
