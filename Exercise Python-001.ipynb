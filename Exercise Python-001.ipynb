{
 "cells": [
  {
   "cell_type": "markdown",
   "id": "a6b04d52",
   "metadata": {},
   "source": [
    "# Exercises 01\n",
    "\n",
    "Exercise Description\n",
    "\n",
    "- Declare variables for integers, floats, strings,\n",
    "and Booleans, then print each of these variables"
   ]
  },
  {
   "cell_type": "code",
   "execution_count": 2,
   "id": "bf3376ee",
   "metadata": {},
   "outputs": [],
   "source": [
    "#Type your answer\n"
   ]
  },
  {
   "cell_type": "markdown",
   "id": "1e40e044",
   "metadata": {},
   "source": [
    "# Exercises 02\n",
    "\n",
    "- Declare a variable for two numbers a and b, you're\n",
    "free to assign any numbers you want, then perform\n",
    "addition, subtraction, multiplication, and power \n",
    "operation, then print each of these variables \n"
   ]
  },
  {
   "cell_type": "code",
   "execution_count": null,
   "id": "1efb6548",
   "metadata": {},
   "outputs": [],
   "source": [
    "#Type your answer"
   ]
  },
  {
   "cell_type": "markdown",
   "id": "33ffc513",
   "metadata": {},
   "source": [
    "# Exercises 03\n"
   ]
  },
  {
   "cell_type": "code",
   "execution_count": null,
   "id": "4456d655",
   "metadata": {},
   "outputs": [],
   "source": [
    "if __name__ == \"__main__\":\n",
    "    \n",
    "    str0 = \"HOW TO DISPLAY ME IN SMALL CAPS?\"\n",
    "    str1 = \"how to DISPLAY me in UPPER CAPS?\"\n",
    "\n",
    "    str2 = \"hello$how$to$split$me?\"\n",
    "    str3 = \"Please count how many characters in this sentence.\"\n",
    "\n",
    "    str_lower = ...  # Assign str0 as small-caps\n",
    "    str_upper = ...  # Assign str1 as upper-caps\n",
    "    str_split = ...  # How to properly split str2?\n",
    "    str_count = ...  # Get how many characters str3 has\n",
    "\n",
    "    print(...)     # display str_lower\n",
    "    print(...)     # display str_upper\n",
    "    print(...)     # display str_split\n",
    "    print(...)     # display str_count"
   ]
  },
  {
   "cell_type": "markdown",
   "id": "0929ddfa",
   "metadata": {},
   "source": [
    "# Exercises 04 \n",
    "\n",
    "Description\n",
    "\n",
    "- initial script will be provided exercise_functions.py\n",
    "- Force test_0, test_1, and test_2 to be true by modifying the functions\n",
    "- save the exercise on the same script"
   ]
  },
  {
   "cell_type": "code",
   "execution_count": null,
   "id": "38df8eb1",
   "metadata": {},
   "outputs": [],
   "source": [
    "\"\"\"\n",
    "Exercise: Force everything to be True by modifying the three functions\n",
    "          - multiply_two_numbers(num0, num1)\n",
    "          - is_equal_length(str0, str1)\n",
    "          - sum_of_length(str0, str1)\n",
    "\n",
    "Clue: \n",
    "- Add a return\n",
    "- Copy paste something :) \n",
    "\n",
    "\"\"\"\n",
    "\n",
    "def multiply_two_numbers(num0, num1):\n",
    "    pass\n",
    "\n",
    "def is_equal_length(str0, str1):\n",
    "    pass\n",
    "\n",
    "# Sum the length of two Strings\n",
    "def sum_of_length(str0, str1):\n",
    "    pass \n",
    "\n",
    "\"\"\"\n",
    "DO NOT MODIFY STARTING FROM HERE\n",
    "\"\"\"\n",
    "\n",
    "if __name__ == \"__main__\":\n",
    "    num0 = 3\n",
    "    num1 = 3\n",
    "    test_0 = multiply_two_numbers(num0, num1) == (num0 * num1)\n",
    "\n",
    "    str0 = \"my_str\"\n",
    "    str1 = \"my_str\"\n",
    "    test_1 = is_equal_length(str0, str1) and (len(str0) == len(str1))\n",
    "    test_2 = sum_of_length(str0, str1) == (len(str0) + len(str1))\n",
    "\n",
    "    print(\"Test 0 = \", test_0)\n",
    "    print(\"Test 1 = \", test_1)\n",
    "    print(\"Test 2 = \", test_2)\n"
   ]
  },
  {
   "cell_type": "markdown",
   "id": "9ff60d30",
   "metadata": {},
   "source": [
    "# Exercises 05\n",
    "\n",
    "* Exercise Description\n",
    "\n",
    "Initial code will be provided with exercise_conditional.py\n",
    "Modifiy the code such that it will print\n",
    "\n",
    "    First branch success!\n",
    "    Second branch success!\n",
    "    Third branch success!\n",
    "    \n",
    "    \n",
    "* TIP: To print \"First branch success!\", \"Second branch success!\", and \"Third branch success!\" in sequence, we can modify the arguments passed to the branching_code function in the if __name__ == \"__main__\" block. We can pass num0 and num1 as 0, 1, 0, 0, and 1, 0, respectively, to make sure that each branch is taken at least once. Here's the modified code:"
   ]
  },
  {
   "cell_type": "code",
   "execution_count": 8,
   "id": "578c46fe",
   "metadata": {},
   "outputs": [
    {
     "name": "stdout",
     "output_type": "stream",
     "text": [
      "Second branch success!\n",
      "Second branch success!\n",
      "Second branch success!\n"
     ]
    }
   ],
   "source": [
    "\"\"\"\n",
    "DO NOT MODIFY STARTS\n",
    "\"\"\"\n",
    "\n",
    "\n",
    "def branching_code(num0, num1):\n",
    "    if num0 < num1:\n",
    "        print(\"First branch success!\")\n",
    "    elif num0 == num1:\n",
    "        print(\"Second branch success!\")\n",
    "    else:\n",
    "        print(\"Third branch success!\")\n",
    "\n",
    "\"\"\"\n",
    "DO NOT MODIFY ENDS\n",
    "\"\"\"\n",
    "\n",
    "\n",
    "\"\"\"\n",
    "Modifiy the code such that it will print\n",
    "\n",
    "First branch success!\n",
    "Second branch success!\n",
    "Third branch success!\n",
    "\n",
    "\"\"\"\n",
    "\n",
    "if __name__ == \"__main__\":\n",
    "    branching_code(0, 0)\n",
    "    branching_code(0, 0)\n",
    "    branching_code(0, 0)"
   ]
  },
  {
   "cell_type": "markdown",
   "id": "7585c94f",
   "metadata": {},
   "source": [
    "# List "
   ]
  },
  {
   "cell_type": "markdown",
   "id": "154dfcdd",
   "metadata": {},
   "source": [
    "# Exercises 06 \n",
    "\n"
   ]
  },
  {
   "cell_type": "code",
   "execution_count": null,
   "id": "f8d2dd62",
   "metadata": {},
   "outputs": [],
   "source": [
    "list_1 = [\"hello\", \"im\", \"learning\", \"python\"]\n",
    "\n",
    "sub_list1 = ... # How to get \"i'm learning\"\n",
    "sub_list2 = ... # How to get the \"python\" on using indexing \n",
    "\n",
    "print(sub_list1)\n",
    "print(sub_list2)\n",
    "\n",
    "list_2 = [0,1,2,3,4,5]\n",
    "# Get the initial count\n",
    "# Do something to add 6 on the end of list_2\n",
    "# Do something to add 7 on the end of list_2\n",
    "# Get how many after adding then print\n",
    "print(list_2)\n"
   ]
  },
  {
   "cell_type": "markdown",
   "id": "919899f8",
   "metadata": {},
   "source": [
    "# Exercises 07"
   ]
  },
  {
   "cell_type": "code",
   "execution_count": null,
   "id": "dcd8be05",
   "metadata": {},
   "outputs": [],
   "source": [
    "animals_list = [ \n",
    "    {\n",
    "        \"animal\" : \"dog\",\n",
    "        \"type\"   : \"mammal\"\n",
    "    },\n",
    "    {\n",
    "        \"animal\" : \"turtle\",\n",
    "        \"type\"   : \"reptile\"\n",
    "    }\n",
    "]\n",
    "\n",
    "animal_0 = {}   # Create a dictionary for your animal of choice\n",
    "animal_1 = {}   # Create a dictionary for your animal of choice\n",
    "\n",
    "# Add the animal_0 and animal_1 to animals_list\n",
    "animals_list.append(animal_0)\n",
    "animals_list.append(animal_1)\n",
    "# How to display \"dog\" using indexing and dictionary key \n",
    "print(animals_list[0][\"animal\"])"
   ]
  }
 ],
 "metadata": {
  "kernelspec": {
   "display_name": "Python 3 (ipykernel)",
   "language": "python",
   "name": "python3"
  },
  "language_info": {
   "codemirror_mode": {
    "name": "ipython",
    "version": 3
   },
   "file_extension": ".py",
   "mimetype": "text/x-python",
   "name": "python",
   "nbconvert_exporter": "python",
   "pygments_lexer": "ipython3",
   "version": "3.9.13"
  }
 },
 "nbformat": 4,
 "nbformat_minor": 5
}
